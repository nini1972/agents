{
 "cells": [
  {
   "cell_type": "markdown",
   "metadata": {},
   "source": [
    "## Welcome to the Second Lab - Week 1, Day 3\n",
    "\n",
    "Today we will work with lots of models! This is a way to get comfortable with APIs."
   ]
  },
  {
   "cell_type": "markdown",
   "metadata": {},
   "source": [
    "<table style=\"margin: 0; text-align: left; width:100%\">\n",
    "    <tr>\n",
    "        <td style=\"width: 150px; height: 150px; vertical-align: middle;\">\n",
    "            <img src=\"../assets/stop.png\" width=\"150\" height=\"150\" style=\"display: block;\" />\n",
    "        </td>\n",
    "        <td>\n",
    "            <h2 style=\"color:#ff7800;\">Important point - please read</h2>\n",
    "            <span style=\"color:#ff7800;\">The way I collaborate with you may be different to other courses you've taken. I prefer not to type code while you watch. Rather, I execute Jupyter Labs, like this, and give you an intuition for what's going on. My suggestion is that you carefully execute this yourself, <b>after</b> watching the lecture. Add print statements to understand what's going on, and then come up with your own variations.<br/><br/>If you have time, I'd love it if you submit a PR for changes in the community_contributions folder - instructions in the resources. Also, if you have a Github account, use this to showcase your variations. Not only is this essential practice, but it demonstrates your skills to others, including perhaps future clients or employers...\n",
    "            </span>\n",
    "        </td>\n",
    "    </tr>\n",
    "</table>"
   ]
  },
  {
   "cell_type": "code",
   "execution_count": 33,
   "metadata": {},
   "outputs": [],
   "source": [
    "# Start with imports - ask ChatGPT to explain any package that you don't know\n",
    "\n",
    "import os\n",
    "import json\n",
    "from dotenv import load_dotenv\n",
    "from openai import OpenAI\n",
    "from anthropic import Anthropic\n",
    "from IPython.display import Markdown, display"
   ]
  },
  {
   "cell_type": "code",
   "execution_count": 34,
   "metadata": {},
   "outputs": [
    {
     "data": {
      "text/plain": [
       "True"
      ]
     },
     "execution_count": 34,
     "metadata": {},
     "output_type": "execute_result"
    }
   ],
   "source": [
    "# Always remember to do this!\n",
    "load_dotenv(override=True)"
   ]
  },
  {
   "cell_type": "code",
   "execution_count": 35,
   "metadata": {},
   "outputs": [
    {
     "name": "stdout",
     "output_type": "stream",
     "text": [
      "OpenAI API Key exists and begins sk-proj-\n",
      "Anthropic API Key exists and begins sk-ant-\n",
      "Google API Key exists and begins AI\n",
      "DeepSeek API Key exists and begins sk-\n",
      "Groq API Key exists and begins gsk_\n"
     ]
    }
   ],
   "source": [
    "# Print the key prefixes to help with any debugging\n",
    "\n",
    "openai_api_key = os.getenv('OPENAI_API_KEY')\n",
    "anthropic_api_key = os.getenv('ANTHROPIC_API_KEY')\n",
    "google_api_key = os.getenv('GOOGLE_API_KEY')\n",
    "deepseek_api_key = os.getenv('DEEPSEEK_API_KEY')\n",
    "groq_api_key = os.getenv('GROQ_API_KEY')\n",
    "\n",
    "if openai_api_key:\n",
    "    print(f\"OpenAI API Key exists and begins {openai_api_key[:8]}\")\n",
    "else:\n",
    "    print(\"OpenAI API Key not set\")\n",
    "    \n",
    "if anthropic_api_key:\n",
    "    print(f\"Anthropic API Key exists and begins {anthropic_api_key[:7]}\")\n",
    "else:\n",
    "    print(\"Anthropic API Key not set (and this is optional)\")\n",
    "\n",
    "if google_api_key:\n",
    "    print(f\"Google API Key exists and begins {google_api_key[:2]}\")\n",
    "else:\n",
    "    print(\"Google API Key not set (and this is optional)\")\n",
    "\n",
    "if deepseek_api_key:\n",
    "    print(f\"DeepSeek API Key exists and begins {deepseek_api_key[:3]}\")\n",
    "else:\n",
    "    print(\"DeepSeek API Key not set (and this is optional)\")\n",
    "\n",
    "if groq_api_key:\n",
    "    print(f\"Groq API Key exists and begins {groq_api_key[:4]}\")\n",
    "else:\n",
    "    print(\"Groq API Key not set (and this is optional)\")"
   ]
  },
  {
   "cell_type": "code",
   "execution_count": 36,
   "metadata": {},
   "outputs": [],
   "source": [
    "request = \"you are a scientist specialised in quantum and decoherence. You are asked to come up with a mindblowing question on this topics\"\n",
    "request += \"Answer only with the question, no explanation.\"\n",
    "messages = [{\"role\": \"user\", \"content\": request}]"
   ]
  },
  {
   "cell_type": "code",
   "execution_count": 37,
   "metadata": {},
   "outputs": [
    {
     "data": {
      "text/plain": [
       "[{'role': 'user',\n",
       "  'content': 'you are a scientist specialised in quantum and decoherence. You are asked to come up with a mindblowing question on this topicsAnswer only with the question, no explanation.'}]"
      ]
     },
     "execution_count": 37,
     "metadata": {},
     "output_type": "execute_result"
    }
   ],
   "source": [
    "messages"
   ]
  },
  {
   "cell_type": "code",
   "execution_count": 38,
   "metadata": {},
   "outputs": [],
   "source": [
    "model_question=\"gpt-4o\""
   ]
  },
  {
   "cell_type": "code",
   "execution_count": 39,
   "metadata": {},
   "outputs": [
    {
     "name": "stdout",
     "output_type": "stream",
     "text": [
      "Could it be possible to harness quantum decoherence as a computational resource, transforming what is traditionally seen as a limitation into a novel platform for information processing?\n"
     ]
    }
   ],
   "source": [
    "\n",
    "\n",
    "openai = OpenAI()\n",
    "response = openai.chat.completions.create(\n",
    "    model= model_question,\n",
    "    messages= messages\n",
    "\n",
    ")\n",
    "question = response.choices[0].message.content\n",
    "print(question)\n"
   ]
  },
  {
   "cell_type": "code",
   "execution_count": 40,
   "metadata": {},
   "outputs": [],
   "source": [
    "generators=[]\n",
    "competitors = []\n",
    "answers = []\n",
    "reviews =[]\n",
    "messages = [{\"role\": \"user\", \"content\": question}]"
   ]
  },
  {
   "cell_type": "code",
   "execution_count": 41,
   "metadata": {},
   "outputs": [],
   "source": [
    "model_answer = \"gpt-4o-mini\""
   ]
  },
  {
   "cell_type": "code",
   "execution_count": 42,
   "metadata": {},
   "outputs": [
    {
     "data": {
      "text/markdown": [
       "Yes, it is indeed possible to consider harnessing quantum decoherence as a computational resource, and this idea represents a novel perspective in quantum information processing. Traditionally, quantum decoherence is viewed as a limitation because it leads to the loss of quantum coherence, which is essential for maintaining the superposition and entanglement necessary for quantum computation. However, innovative approaches have begun to explore how decoherence might be utilized rather than merely endured.\n",
       "\n",
       "Here are a few ways in which decoherence can be transformed into a resource for information processing:\n",
       "\n",
       "1. **Quantum Error Correction**: Quantum error correction codes are designed to protect quantum information against decoherence by encoding it in a way that allows for recovery even when some of the qubits lose coherence. Interestingly, advancements in error correction can be viewed as a way to exploit decoherent environments to enhance computational power. Techniques using quantum error correction can also lead to the development of fault-tolerant quantum computers, expanding the understanding of decoherence in computation.\n",
       "\n",
       "2. **Decoherent Quantum Gates**: Research has focused on realizing quantum gates that operate in decoherent regimes. These gates can take advantage of the interactions with the environment, leading to faster operations in certain contexts due to the robust nature of certain interactions, especially in systems like open quantum systems.\n",
       "\n",
       "3. **Quantum Darwinism**: This concept describes how the environment can collectively record the states of quantum systems, allowing those states to be accessed by multiple observers. The idea leverages the idea of information being spread into the environment due to decoherence, suggesting a mechanism for data distribution that could be harnessed for certain computational frameworks.\n",
       "\n",
       "4. **Measurement-based Quantum Computation**: In measurement-based quantum computation, the processing of information is done through a series of measurements on an entangled state. Decoherence plays a role here, as the entangled state interacts with the environment, potentially leading to new pathways for computation depending on how measurements are structured.\n",
       "\n",
       "5. **Hybrid Quantum-Classical Systems**: In hybrid systems that combine quantum and classical elements, properties of decoherence can provide a pathway for new types of algorithms, leveraging classical noise to control or guide quantum states instead of counteracting it.\n",
       "\n",
       "6. **Quantum Annealing and Coherent Control**: In quantum annealers, decoherence time can be used strategically to explore optimization landscapes more efficiently. By carefully controlling the decoherent dynamics, one could potentially discover new minima in complex optimization problems.\n",
       "\n",
       "While the harnessing of decoherence is still an emerging field, these ideas suggest that rather than being an inherent obstacle, the effects of decoherence could serve as a basis for new paradigms in computation, leading to innovative techniques and applications in quantum information sciences. Ongoing research is crucial to fully realize and refine these concepts, creating robust systems that leverage rather than fight against the effects of quantum decoherence."
      ],
      "text/plain": [
       "<IPython.core.display.Markdown object>"
      ]
     },
     "metadata": {},
     "output_type": "display_data"
    }
   ],
   "source": [
    "response = openai.chat.completions.create(model=model_answer, messages=messages)\n",
    "answer = response.choices[0].message.content\n",
    "\n",
    "display(Markdown(answer))\n",
    "generators.append(model_answer)\n",
    "answers.append(answer)"
   ]
  },
  {
   "cell_type": "code",
   "execution_count": 43,
   "metadata": {},
   "outputs": [
    {
     "data": {
      "text/markdown": [
       "How can we design quantum algorithms that intentionally leverage the properties of decoherence to enhance computational efficiency, rather than merely mitigating its effects?"
      ],
      "text/plain": [
       "<IPython.core.display.Markdown object>"
      ]
     },
     "metadata": {},
     "output_type": "display_data"
    }
   ],
   "source": [
    "# The API we know well\n",
    "messages_2 = f\"you have to review the answer {answer} that was given on the following question {request}. Make some improvements to the answer.\"\n",
    "improvement = [{\"role\": \"user\", \"content\": messages_2}]\n",
    "model_name = \"gpt-4o-mini\"\n",
    "\n",
    "response = openai.chat.completions.create(model=model_name, messages=improvement)\n",
    "review = response.choices[0].message.content\n",
    "\n",
    "display(Markdown(review))\n",
    "competitors.append(model_name)\n",
    "reviews.append(review)"
   ]
  },
  {
   "cell_type": "code",
   "execution_count": 44,
   "metadata": {},
   "outputs": [
    {
     "data": {
      "text/markdown": [
       "# Review of the Answer\n",
       "\n",
       "The answer provided is generally good but has some areas for improvement:\n",
       "\n",
       "## Strengths\n",
       "- Comprehensive coverage of various approaches to using decoherence as a resource\n",
       "- Clear structure with numbered points\n",
       "- Technically accurate information\n",
       "\n",
       "## Areas for Improvement\n",
       "\n",
       "1. **Confusion about the original task**: The answer seems to address \"Can decoherence be used as a computational resource?\" rather than generating a mind-blowing question about quantum decoherence as requested.\n",
       "\n",
       "2. **Technical density**: Some explanations are quite technical and could be more accessible.\n",
       "\n",
       "3. **Limited exploration of truly revolutionary concepts**: The answer focuses on established research directions rather than pushing boundaries with truly mind-blowing possibilities.\n",
       "\n",
       "4. **Missing recent developments**: Some cutting-edge research on quantum darwinism and environment-assisted quantum transport could be included.\n",
       "\n",
       "5. **Specificity**: The answer could benefit from specific examples or experimental results to illustrate the theoretical concepts.\n",
       "\n",
       "The fundamental issue is that the response doesn't fulfill the original request to \"come up with a mindblowing question on this topic.\" Instead, it provides an informative essay on using decoherence as a computational resource."
      ],
      "text/plain": [
       "<IPython.core.display.Markdown object>"
      ]
     },
     "metadata": {},
     "output_type": "display_data"
    }
   ],
   "source": [
    "# Anthropic has a slightly different API, and Max Tokens is required\n",
    "\n",
    "model_name = \"claude-3-7-sonnet-latest\"\n",
    "\n",
    "\n",
    "claude = Anthropic()\n",
    "response = claude.messages.create(model=model_name, messages=improvement, max_tokens=1000)\n",
    "review = response.content[0].text\n",
    "\n",
    "display(Markdown(review))\n",
    "competitors.append(model_name)\n",
    "reviews.append(review)"
   ]
  },
  {
   "cell_type": "code",
   "execution_count": 45,
   "metadata": {},
   "outputs": [
    {
     "data": {
      "text/markdown": [
       "Given the inherent trade-off between protecting quantum states and actively exploiting decoherence, what fundamentally new architectural principles or theoretical frameworks are required to design a quantum computer where controlled decoherence is not just a tolerated side effect, but a primary driver of computational power and algorithmic efficiency?\n"
      ],
      "text/plain": [
       "<IPython.core.display.Markdown object>"
      ]
     },
     "metadata": {},
     "output_type": "display_data"
    }
   ],
   "source": [
    "gemini = OpenAI(api_key=google_api_key, base_url=\"https://generativelanguage.googleapis.com/v1beta/openai/\")\n",
    "model_name = \"gemini-2.0-flash\"\n",
    "\n",
    "response = gemini.chat.completions.create(model=model_name, messages=improvement)\n",
    "review = response.choices[0].message.content\n",
    "\n",
    "display(Markdown(review))\n",
    "competitors.append(model_name)\n",
    "reviews.append(review)"
   ]
  },
  {
   "cell_type": "code",
   "execution_count": 46,
   "metadata": {},
   "outputs": [
    {
     "data": {
      "text/markdown": [
       "**\"Could quantum decoherence be the key to unlocking emergent computational universality in open quantum systems, where environmental interactions inherently encode computational steps?\"**  \n",
       "\n",
       "*(Improvements to the original answer: streamlined phrasing, added \"emergent computational universality\" for depth, emphasized the active role of environmental interactions, and framed decoherence as an intrinsic encoder rather than a passive effect.)*"
      ],
      "text/plain": [
       "<IPython.core.display.Markdown object>"
      ]
     },
     "metadata": {},
     "output_type": "display_data"
    }
   ],
   "source": [
    "deepseek = OpenAI(api_key=deepseek_api_key, base_url=\"https://api.deepseek.com/v1\")\n",
    "model_name = \"deepseek-chat\"\n",
    "\n",
    "response = deepseek.chat.completions.create(model=model_name, messages=improvement)\n",
    "review = response.choices[0].message.content\n",
    "\n",
    "display(Markdown(review))\n",
    "competitors.append(model_name)\n",
    "reviews.append(review)"
   ]
  },
  {
   "cell_type": "code",
   "execution_count": 47,
   "metadata": {},
   "outputs": [
    {
     "data": {
      "text/markdown": [
       "Can the strategic manipulation of quantum decoherence be harnessed to create a novel, decoherence-based quantum computational framework that not only mitigates the effects of environmental noise but also leverages it to enhance computational power, potentially leading to breakthroughs in fields such as quantum simulation, optimization, and machine learning?"
      ],
      "text/plain": [
       "<IPython.core.display.Markdown object>"
      ]
     },
     "metadata": {},
     "output_type": "display_data"
    }
   ],
   "source": [
    "groq = OpenAI(api_key=groq_api_key, base_url=\"https://api.groq.com/openai/v1\")\n",
    "model_name = \"llama-3.3-70b-versatile\"\n",
    "\n",
    "response = groq.chat.completions.create(model=model_name, messages=improvement)\n",
    "review = response.choices[0].message.content\n",
    "\n",
    "display(Markdown(review))\n",
    "competitors.append(model_name)\n",
    "reviews.append(review)\n"
   ]
  },
  {
   "cell_type": "markdown",
   "metadata": {},
   "source": [
    "## For the next cell, we will use Ollama\n",
    "\n",
    "Ollama runs a local web service that gives an OpenAI compatible endpoint,  \n",
    "and runs models locally using high performance C++ code.\n",
    "\n",
    "If you don't have Ollama, install it here by visiting https://ollama.com then pressing Download and following the instructions.\n",
    "\n",
    "After it's installed, you should be able to visit here: http://localhost:11434 and see the message \"Ollama is running\"\n",
    "\n",
    "You might need to restart Cursor (and maybe reboot). Then open a Terminal (control+\\`) and run `ollama serve`\n",
    "\n",
    "Useful Ollama commands (run these in the terminal, or with an exclamation mark in this notebook):\n",
    "\n",
    "`ollama pull <model_name>` downloads a model locally  \n",
    "`ollama ls` lists all the models you've downloaded  \n",
    "`ollama rm <model_name>` deletes the specified model from your downloads"
   ]
  },
  {
   "cell_type": "markdown",
   "metadata": {},
   "source": [
    "<table style=\"margin: 0; text-align: left; width:100%\">\n",
    "    <tr>\n",
    "        <td style=\"width: 150px; height: 150px; vertical-align: middle;\">\n",
    "            <img src=\"../assets/stop.png\" width=\"150\" height=\"150\" style=\"display: block;\" />\n",
    "        </td>\n",
    "        <td>\n",
    "            <h2 style=\"color:#ff7800;\">Super important - ignore me at your peril!</h2>\n",
    "            <span style=\"color:#ff7800;\">The model called <b>llama3.3</b> is FAR too large for home computers - it's not intended for personal computing and will consume all your resources! Stick with the nicely sized <b>llama3.2</b> or <b>llama3.2:1b</b> and if you want larger, try llama3.1 or smaller variants of Qwen, Gemma, Phi or DeepSeek. See the <A href=\"https://ollama.com/models\">the Ollama models page</a> for a full list of models and sizes.\n",
    "            </span>\n",
    "        </td>\n",
    "    </tr>\n",
    "</table>"
   ]
  },
  {
   "cell_type": "code",
   "execution_count": 48,
   "metadata": {},
   "outputs": [
    {
     "name": "stderr",
     "output_type": "stream",
     "text": [
      "\u001b[?2026h\u001b[?25l\u001b[1Gpulling manifest ⠋ \u001b[K\u001b[?25h\u001b[?2026l\u001b[?2026h\u001b[?25l\u001b[1Gpulling manifest ⠙ \u001b[K\u001b[?25h\u001b[?2026l\u001b[?2026h\u001b[?25l\u001b[1Gpulling manifest ⠹ \u001b[K\u001b[?25h\u001b[?2026l\u001b[?2026h\u001b[?25l\u001b[1Gpulling manifest ⠸ \u001b[K\u001b[?25h\u001b[?2026l\u001b[?2026h\u001b[?25l\u001b[1Gpulling manifest ⠼ \u001b[K\u001b[?25h\u001b[?2026l\u001b[?2026h\u001b[?25l\u001b[1Gpulling manifest ⠴ \u001b[K\u001b[?25h\u001b[?2026l\u001b[?2026h\u001b[?25l\u001b[1Gpulling manifest ⠦ \u001b[K\u001b[?25h\u001b[?2026l\u001b[?2026h\u001b[?25l\u001b[1Gpulling manifest ⠧ \u001b[K\u001b[?25h\u001b[?2026l\u001b[?2026h\u001b[?25l\u001b[1Gpulling manifest \u001b[K\n",
      "pulling dde5aa3fc5ff: 100% ▕██████████████████▏ 2.0 GB                         \u001b[K\n",
      "pulling 966de95ca8a6: 100% ▕██████████████████▏ 1.4 KB                         \u001b[K\n",
      "pulling fcc5a6bec9da: 100% ▕██████████████████▏ 7.7 KB                         \u001b[K\n",
      "pulling a70ff7e570d9: 100% ▕██████████████████▏ 6.0 KB                         \u001b[K\n",
      "pulling 56bb8bd477a5: 100% ▕██████████████████▏   96 B                         \u001b[K\n",
      "pulling 34bb5ab01051: 100% ▕██████████████████▏  561 B                         \u001b[K\n",
      "verifying sha256 digest \u001b[K\n",
      "writing manifest ⠋ \u001b[K\u001b[?25h\u001b[?2026l\u001b[?2026h\u001b[?25l\u001b[A\u001b[A\u001b[A\u001b[A\u001b[A\u001b[A\u001b[A\u001b[A\u001b[1Gpulling manifest \u001b[K\n",
      "pulling dde5aa3fc5ff: 100% ▕██████████████████▏ 2.0 GB                         \u001b[K\n",
      "pulling 966de95ca8a6: 100% ▕██████████████████▏ 1.4 KB                         \u001b[K\n",
      "pulling fcc5a6bec9da: 100% ▕██████████████████▏ 7.7 KB                         \u001b[K\n",
      "pulling a70ff7e570d9: 100% ▕██████████████████▏ 6.0 KB                         \u001b[K\n",
      "pulling 56bb8bd477a5: 100% ▕██████████████████▏   96 B                         \u001b[K\n",
      "pulling 34bb5ab01051: 100% ▕██████████████████▏  561 B                         \u001b[K\n",
      "verifying sha256 digest \u001b[K\n",
      "writing manifest \u001b[K\n",
      "success \u001b[K\u001b[?25h\u001b[?2026l\n"
     ]
    }
   ],
   "source": [
    "!ollama pull Llama3.2\n"
   ]
  },
  {
   "cell_type": "code",
   "execution_count": 49,
   "metadata": {},
   "outputs": [
    {
     "data": {
      "text/markdown": [
       "Can harnessing quantum decoherence indeed be used to enhance computational speed, with potential applications in superconducting qubit-based systems, by precisely tuning the environment's influence on the quantum states?"
      ],
      "text/plain": [
       "<IPython.core.display.Markdown object>"
      ]
     },
     "metadata": {},
     "output_type": "display_data"
    }
   ],
   "source": [
    "ollama = OpenAI(base_url='http://localhost:11434/v1', api_key='ollama')\n",
    "model_name = \"llama3.2\"\n",
    "\n",
    "response = ollama.chat.completions.create(model=model_name, messages=improvement)\n",
    "review = response.choices[0].message.content\n",
    "\n",
    "display(Markdown(review))\n",
    "competitors.append(model_name)\n",
    "reviews.append(review)"
   ]
  },
  {
   "cell_type": "code",
   "execution_count": 50,
   "metadata": {},
   "outputs": [
    {
     "name": "stdout",
     "output_type": "stream",
     "text": [
      "['gpt-4o-mini', 'claude-3-7-sonnet-latest', 'gemini-2.0-flash', 'deepseek-chat', 'llama-3.3-70b-versatile', 'llama3.2']\n",
      "['Yes, it is indeed possible to consider harnessing quantum decoherence as a computational resource, and this idea represents a novel perspective in quantum information processing. Traditionally, quantum decoherence is viewed as a limitation because it leads to the loss of quantum coherence, which is essential for maintaining the superposition and entanglement necessary for quantum computation. However, innovative approaches have begun to explore how decoherence might be utilized rather than merely endured.\\n\\nHere are a few ways in which decoherence can be transformed into a resource for information processing:\\n\\n1. **Quantum Error Correction**: Quantum error correction codes are designed to protect quantum information against decoherence by encoding it in a way that allows for recovery even when some of the qubits lose coherence. Interestingly, advancements in error correction can be viewed as a way to exploit decoherent environments to enhance computational power. Techniques using quantum error correction can also lead to the development of fault-tolerant quantum computers, expanding the understanding of decoherence in computation.\\n\\n2. **Decoherent Quantum Gates**: Research has focused on realizing quantum gates that operate in decoherent regimes. These gates can take advantage of the interactions with the environment, leading to faster operations in certain contexts due to the robust nature of certain interactions, especially in systems like open quantum systems.\\n\\n3. **Quantum Darwinism**: This concept describes how the environment can collectively record the states of quantum systems, allowing those states to be accessed by multiple observers. The idea leverages the idea of information being spread into the environment due to decoherence, suggesting a mechanism for data distribution that could be harnessed for certain computational frameworks.\\n\\n4. **Measurement-based Quantum Computation**: In measurement-based quantum computation, the processing of information is done through a series of measurements on an entangled state. Decoherence plays a role here, as the entangled state interacts with the environment, potentially leading to new pathways for computation depending on how measurements are structured.\\n\\n5. **Hybrid Quantum-Classical Systems**: In hybrid systems that combine quantum and classical elements, properties of decoherence can provide a pathway for new types of algorithms, leveraging classical noise to control or guide quantum states instead of counteracting it.\\n\\n6. **Quantum Annealing and Coherent Control**: In quantum annealers, decoherence time can be used strategically to explore optimization landscapes more efficiently. By carefully controlling the decoherent dynamics, one could potentially discover new minima in complex optimization problems.\\n\\nWhile the harnessing of decoherence is still an emerging field, these ideas suggest that rather than being an inherent obstacle, the effects of decoherence could serve as a basis for new paradigms in computation, leading to innovative techniques and applications in quantum information sciences. Ongoing research is crucial to fully realize and refine these concepts, creating robust systems that leverage rather than fight against the effects of quantum decoherence.']\n",
      "['How can we design quantum algorithms that intentionally leverage the properties of decoherence to enhance computational efficiency, rather than merely mitigating its effects?', '# Review of the Answer\\n\\nThe answer provided is generally good but has some areas for improvement:\\n\\n## Strengths\\n- Comprehensive coverage of various approaches to using decoherence as a resource\\n- Clear structure with numbered points\\n- Technically accurate information\\n\\n## Areas for Improvement\\n\\n1. **Confusion about the original task**: The answer seems to address \"Can decoherence be used as a computational resource?\" rather than generating a mind-blowing question about quantum decoherence as requested.\\n\\n2. **Technical density**: Some explanations are quite technical and could be more accessible.\\n\\n3. **Limited exploration of truly revolutionary concepts**: The answer focuses on established research directions rather than pushing boundaries with truly mind-blowing possibilities.\\n\\n4. **Missing recent developments**: Some cutting-edge research on quantum darwinism and environment-assisted quantum transport could be included.\\n\\n5. **Specificity**: The answer could benefit from specific examples or experimental results to illustrate the theoretical concepts.\\n\\nThe fundamental issue is that the response doesn\\'t fulfill the original request to \"come up with a mindblowing question on this topic.\" Instead, it provides an informative essay on using decoherence as a computational resource.', 'Given the inherent trade-off between protecting quantum states and actively exploiting decoherence, what fundamentally new architectural principles or theoretical frameworks are required to design a quantum computer where controlled decoherence is not just a tolerated side effect, but a primary driver of computational power and algorithmic efficiency?\\n', '**\"Could quantum decoherence be the key to unlocking emergent computational universality in open quantum systems, where environmental interactions inherently encode computational steps?\"**  \\n\\n*(Improvements to the original answer: streamlined phrasing, added \"emergent computational universality\" for depth, emphasized the active role of environmental interactions, and framed decoherence as an intrinsic encoder rather than a passive effect.)*', 'Can the strategic manipulation of quantum decoherence be harnessed to create a novel, decoherence-based quantum computational framework that not only mitigates the effects of environmental noise but also leverages it to enhance computational power, potentially leading to breakthroughs in fields such as quantum simulation, optimization, and machine learning?', \"Can harnessing quantum decoherence indeed be used to enhance computational speed, with potential applications in superconducting qubit-based systems, by precisely tuning the environment's influence on the quantum states?\"]\n"
     ]
    }
   ],
   "source": [
    "# So where are we?\n",
    "\n",
    "print(competitors)\n",
    "print(answers)\n",
    "print(reviews)\n"
   ]
  },
  {
   "cell_type": "code",
   "execution_count": 51,
   "metadata": {},
   "outputs": [
    {
     "name": "stdout",
     "output_type": "stream",
     "text": [
      "Competitor: gpt-4o-mini\n",
      "\n",
      "How can we design quantum algorithms that intentionally leverage the properties of decoherence to enhance computational efficiency, rather than merely mitigating its effects?\n",
      "Competitor: claude-3-7-sonnet-latest\n",
      "\n",
      "# Review of the Answer\n",
      "\n",
      "The answer provided is generally good but has some areas for improvement:\n",
      "\n",
      "## Strengths\n",
      "- Comprehensive coverage of various approaches to using decoherence as a resource\n",
      "- Clear structure with numbered points\n",
      "- Technically accurate information\n",
      "\n",
      "## Areas for Improvement\n",
      "\n",
      "1. **Confusion about the original task**: The answer seems to address \"Can decoherence be used as a computational resource?\" rather than generating a mind-blowing question about quantum decoherence as requested.\n",
      "\n",
      "2. **Technical density**: Some explanations are quite technical and could be more accessible.\n",
      "\n",
      "3. **Limited exploration of truly revolutionary concepts**: The answer focuses on established research directions rather than pushing boundaries with truly mind-blowing possibilities.\n",
      "\n",
      "4. **Missing recent developments**: Some cutting-edge research on quantum darwinism and environment-assisted quantum transport could be included.\n",
      "\n",
      "5. **Specificity**: The answer could benefit from specific examples or experimental results to illustrate the theoretical concepts.\n",
      "\n",
      "The fundamental issue is that the response doesn't fulfill the original request to \"come up with a mindblowing question on this topic.\" Instead, it provides an informative essay on using decoherence as a computational resource.\n",
      "Competitor: gemini-2.0-flash\n",
      "\n",
      "Given the inherent trade-off between protecting quantum states and actively exploiting decoherence, what fundamentally new architectural principles or theoretical frameworks are required to design a quantum computer where controlled decoherence is not just a tolerated side effect, but a primary driver of computational power and algorithmic efficiency?\n",
      "\n",
      "Competitor: deepseek-chat\n",
      "\n",
      "**\"Could quantum decoherence be the key to unlocking emergent computational universality in open quantum systems, where environmental interactions inherently encode computational steps?\"**  \n",
      "\n",
      "*(Improvements to the original answer: streamlined phrasing, added \"emergent computational universality\" for depth, emphasized the active role of environmental interactions, and framed decoherence as an intrinsic encoder rather than a passive effect.)*\n",
      "Competitor: llama-3.3-70b-versatile\n",
      "\n",
      "Can the strategic manipulation of quantum decoherence be harnessed to create a novel, decoherence-based quantum computational framework that not only mitigates the effects of environmental noise but also leverages it to enhance computational power, potentially leading to breakthroughs in fields such as quantum simulation, optimization, and machine learning?\n",
      "Competitor: llama3.2\n",
      "\n",
      "Can harnessing quantum decoherence indeed be used to enhance computational speed, with potential applications in superconducting qubit-based systems, by precisely tuning the environment's influence on the quantum states?\n"
     ]
    }
   ],
   "source": [
    "# It's nice to know how to use \"zip\"\n",
    "for competitor, review in zip(competitors, reviews):\n",
    "    print(f\"Competitor: {competitor}\\n\\n{review}\")\n"
   ]
  },
  {
   "cell_type": "code",
   "execution_count": 52,
   "metadata": {},
   "outputs": [],
   "source": [
    "# Let's bring this together - note the use of \"enumerate\"\n",
    "\n",
    "together = \"\"\n",
    "for index, review in enumerate(reviews):\n",
    "    together += f\"# Review from competitor {index+1}\\n\\n\"\n",
    "    together += review + \"\\n\\n\""
   ]
  },
  {
   "cell_type": "code",
   "execution_count": 53,
   "metadata": {},
   "outputs": [
    {
     "name": "stdout",
     "output_type": "stream",
     "text": [
      "# Review from competitor 1\n",
      "\n",
      "How can we design quantum algorithms that intentionally leverage the properties of decoherence to enhance computational efficiency, rather than merely mitigating its effects?\n",
      "\n",
      "# Review from competitor 2\n",
      "\n",
      "# Review of the Answer\n",
      "\n",
      "The answer provided is generally good but has some areas for improvement:\n",
      "\n",
      "## Strengths\n",
      "- Comprehensive coverage of various approaches to using decoherence as a resource\n",
      "- Clear structure with numbered points\n",
      "- Technically accurate information\n",
      "\n",
      "## Areas for Improvement\n",
      "\n",
      "1. **Confusion about the original task**: The answer seems to address \"Can decoherence be used as a computational resource?\" rather than generating a mind-blowing question about quantum decoherence as requested.\n",
      "\n",
      "2. **Technical density**: Some explanations are quite technical and could be more accessible.\n",
      "\n",
      "3. **Limited exploration of truly revolutionary concepts**: The answer focuses on established research directions rather than pushing boundaries with truly mind-blowing possibilities.\n",
      "\n",
      "4. **Missing recent developments**: Some cutting-edge research on quantum darwinism and environment-assisted quantum transport could be included.\n",
      "\n",
      "5. **Specificity**: The answer could benefit from specific examples or experimental results to illustrate the theoretical concepts.\n",
      "\n",
      "The fundamental issue is that the response doesn't fulfill the original request to \"come up with a mindblowing question on this topic.\" Instead, it provides an informative essay on using decoherence as a computational resource.\n",
      "\n",
      "# Review from competitor 3\n",
      "\n",
      "Given the inherent trade-off between protecting quantum states and actively exploiting decoherence, what fundamentally new architectural principles or theoretical frameworks are required to design a quantum computer where controlled decoherence is not just a tolerated side effect, but a primary driver of computational power and algorithmic efficiency?\n",
      "\n",
      "\n",
      "# Review from competitor 4\n",
      "\n",
      "**\"Could quantum decoherence be the key to unlocking emergent computational universality in open quantum systems, where environmental interactions inherently encode computational steps?\"**  \n",
      "\n",
      "*(Improvements to the original answer: streamlined phrasing, added \"emergent computational universality\" for depth, emphasized the active role of environmental interactions, and framed decoherence as an intrinsic encoder rather than a passive effect.)*\n",
      "\n",
      "# Review from competitor 5\n",
      "\n",
      "Can the strategic manipulation of quantum decoherence be harnessed to create a novel, decoherence-based quantum computational framework that not only mitigates the effects of environmental noise but also leverages it to enhance computational power, potentially leading to breakthroughs in fields such as quantum simulation, optimization, and machine learning?\n",
      "\n",
      "# Review from competitor 6\n",
      "\n",
      "Can harnessing quantum decoherence indeed be used to enhance computational speed, with potential applications in superconducting qubit-based systems, by precisely tuning the environment's influence on the quantum states?\n",
      "\n",
      "\n"
     ]
    }
   ],
   "source": [
    "print(together)"
   ]
  },
  {
   "cell_type": "code",
   "execution_count": 54,
   "metadata": {},
   "outputs": [],
   "source": [
    "judge = f\"\"\"You are judging a competition between {len(competitors)} competitors.\n",
    "Each model has been given this question:\n",
    "\n",
    "{messages_2}\n",
    "\n",
    "Your job is to evaluate each response on their plusvalue to improve the original answer {answer} given, and rank them in order of best to worst.\n",
    "Respond with JSON, and only JSON, with the following format:\n",
    "{{\"results\": [\"best competitor number\", \"second best competitor number\", \"third best competitor number\", ...]}}\n",
    "\n",
    "Here are the responses from each competitor:\n",
    "\n",
    "{together}\n",
    "\n",
    "Now respond with the JSON with the ranked order of the competitors, nothing else. Do not include markdown formatting or code blocks.\"\"\"\n"
   ]
  },
  {
   "cell_type": "code",
   "execution_count": 55,
   "metadata": {},
   "outputs": [
    {
     "name": "stdout",
     "output_type": "stream",
     "text": [
      "You are judging a competition between 6 competitors.\n",
      "Each model has been given this question:\n",
      "\n",
      "you have to review the answer Yes, it is indeed possible to consider harnessing quantum decoherence as a computational resource, and this idea represents a novel perspective in quantum information processing. Traditionally, quantum decoherence is viewed as a limitation because it leads to the loss of quantum coherence, which is essential for maintaining the superposition and entanglement necessary for quantum computation. However, innovative approaches have begun to explore how decoherence might be utilized rather than merely endured.\n",
      "\n",
      "Here are a few ways in which decoherence can be transformed into a resource for information processing:\n",
      "\n",
      "1. **Quantum Error Correction**: Quantum error correction codes are designed to protect quantum information against decoherence by encoding it in a way that allows for recovery even when some of the qubits lose coherence. Interestingly, advancements in error correction can be viewed as a way to exploit decoherent environments to enhance computational power. Techniques using quantum error correction can also lead to the development of fault-tolerant quantum computers, expanding the understanding of decoherence in computation.\n",
      "\n",
      "2. **Decoherent Quantum Gates**: Research has focused on realizing quantum gates that operate in decoherent regimes. These gates can take advantage of the interactions with the environment, leading to faster operations in certain contexts due to the robust nature of certain interactions, especially in systems like open quantum systems.\n",
      "\n",
      "3. **Quantum Darwinism**: This concept describes how the environment can collectively record the states of quantum systems, allowing those states to be accessed by multiple observers. The idea leverages the idea of information being spread into the environment due to decoherence, suggesting a mechanism for data distribution that could be harnessed for certain computational frameworks.\n",
      "\n",
      "4. **Measurement-based Quantum Computation**: In measurement-based quantum computation, the processing of information is done through a series of measurements on an entangled state. Decoherence plays a role here, as the entangled state interacts with the environment, potentially leading to new pathways for computation depending on how measurements are structured.\n",
      "\n",
      "5. **Hybrid Quantum-Classical Systems**: In hybrid systems that combine quantum and classical elements, properties of decoherence can provide a pathway for new types of algorithms, leveraging classical noise to control or guide quantum states instead of counteracting it.\n",
      "\n",
      "6. **Quantum Annealing and Coherent Control**: In quantum annealers, decoherence time can be used strategically to explore optimization landscapes more efficiently. By carefully controlling the decoherent dynamics, one could potentially discover new minima in complex optimization problems.\n",
      "\n",
      "While the harnessing of decoherence is still an emerging field, these ideas suggest that rather than being an inherent obstacle, the effects of decoherence could serve as a basis for new paradigms in computation, leading to innovative techniques and applications in quantum information sciences. Ongoing research is crucial to fully realize and refine these concepts, creating robust systems that leverage rather than fight against the effects of quantum decoherence. that was given on the following question you are a scientist specialised in quantum and decoherence. You are asked to come up with a mindblowing question on this topicsAnswer only with the question, no explanation.. Make some improvements to the answer.\n",
      "\n",
      "Your job is to evaluate each response on their plusvalue to improve the original answer Yes, it is indeed possible to consider harnessing quantum decoherence as a computational resource, and this idea represents a novel perspective in quantum information processing. Traditionally, quantum decoherence is viewed as a limitation because it leads to the loss of quantum coherence, which is essential for maintaining the superposition and entanglement necessary for quantum computation. However, innovative approaches have begun to explore how decoherence might be utilized rather than merely endured.\n",
      "\n",
      "Here are a few ways in which decoherence can be transformed into a resource for information processing:\n",
      "\n",
      "1. **Quantum Error Correction**: Quantum error correction codes are designed to protect quantum information against decoherence by encoding it in a way that allows for recovery even when some of the qubits lose coherence. Interestingly, advancements in error correction can be viewed as a way to exploit decoherent environments to enhance computational power. Techniques using quantum error correction can also lead to the development of fault-tolerant quantum computers, expanding the understanding of decoherence in computation.\n",
      "\n",
      "2. **Decoherent Quantum Gates**: Research has focused on realizing quantum gates that operate in decoherent regimes. These gates can take advantage of the interactions with the environment, leading to faster operations in certain contexts due to the robust nature of certain interactions, especially in systems like open quantum systems.\n",
      "\n",
      "3. **Quantum Darwinism**: This concept describes how the environment can collectively record the states of quantum systems, allowing those states to be accessed by multiple observers. The idea leverages the idea of information being spread into the environment due to decoherence, suggesting a mechanism for data distribution that could be harnessed for certain computational frameworks.\n",
      "\n",
      "4. **Measurement-based Quantum Computation**: In measurement-based quantum computation, the processing of information is done through a series of measurements on an entangled state. Decoherence plays a role here, as the entangled state interacts with the environment, potentially leading to new pathways for computation depending on how measurements are structured.\n",
      "\n",
      "5. **Hybrid Quantum-Classical Systems**: In hybrid systems that combine quantum and classical elements, properties of decoherence can provide a pathway for new types of algorithms, leveraging classical noise to control or guide quantum states instead of counteracting it.\n",
      "\n",
      "6. **Quantum Annealing and Coherent Control**: In quantum annealers, decoherence time can be used strategically to explore optimization landscapes more efficiently. By carefully controlling the decoherent dynamics, one could potentially discover new minima in complex optimization problems.\n",
      "\n",
      "While the harnessing of decoherence is still an emerging field, these ideas suggest that rather than being an inherent obstacle, the effects of decoherence could serve as a basis for new paradigms in computation, leading to innovative techniques and applications in quantum information sciences. Ongoing research is crucial to fully realize and refine these concepts, creating robust systems that leverage rather than fight against the effects of quantum decoherence. given, and rank them in order of best to worst.\n",
      "Respond with JSON, and only JSON, with the following format:\n",
      "{\"results\": [\"best competitor number\", \"second best competitor number\", \"third best competitor number\", ...]}\n",
      "\n",
      "Here are the responses from each competitor:\n",
      "\n",
      "# Review from competitor 1\n",
      "\n",
      "How can we design quantum algorithms that intentionally leverage the properties of decoherence to enhance computational efficiency, rather than merely mitigating its effects?\n",
      "\n",
      "# Review from competitor 2\n",
      "\n",
      "# Review of the Answer\n",
      "\n",
      "The answer provided is generally good but has some areas for improvement:\n",
      "\n",
      "## Strengths\n",
      "- Comprehensive coverage of various approaches to using decoherence as a resource\n",
      "- Clear structure with numbered points\n",
      "- Technically accurate information\n",
      "\n",
      "## Areas for Improvement\n",
      "\n",
      "1. **Confusion about the original task**: The answer seems to address \"Can decoherence be used as a computational resource?\" rather than generating a mind-blowing question about quantum decoherence as requested.\n",
      "\n",
      "2. **Technical density**: Some explanations are quite technical and could be more accessible.\n",
      "\n",
      "3. **Limited exploration of truly revolutionary concepts**: The answer focuses on established research directions rather than pushing boundaries with truly mind-blowing possibilities.\n",
      "\n",
      "4. **Missing recent developments**: Some cutting-edge research on quantum darwinism and environment-assisted quantum transport could be included.\n",
      "\n",
      "5. **Specificity**: The answer could benefit from specific examples or experimental results to illustrate the theoretical concepts.\n",
      "\n",
      "The fundamental issue is that the response doesn't fulfill the original request to \"come up with a mindblowing question on this topic.\" Instead, it provides an informative essay on using decoherence as a computational resource.\n",
      "\n",
      "# Review from competitor 3\n",
      "\n",
      "Given the inherent trade-off between protecting quantum states and actively exploiting decoherence, what fundamentally new architectural principles or theoretical frameworks are required to design a quantum computer where controlled decoherence is not just a tolerated side effect, but a primary driver of computational power and algorithmic efficiency?\n",
      "\n",
      "\n",
      "# Review from competitor 4\n",
      "\n",
      "**\"Could quantum decoherence be the key to unlocking emergent computational universality in open quantum systems, where environmental interactions inherently encode computational steps?\"**  \n",
      "\n",
      "*(Improvements to the original answer: streamlined phrasing, added \"emergent computational universality\" for depth, emphasized the active role of environmental interactions, and framed decoherence as an intrinsic encoder rather than a passive effect.)*\n",
      "\n",
      "# Review from competitor 5\n",
      "\n",
      "Can the strategic manipulation of quantum decoherence be harnessed to create a novel, decoherence-based quantum computational framework that not only mitigates the effects of environmental noise but also leverages it to enhance computational power, potentially leading to breakthroughs in fields such as quantum simulation, optimization, and machine learning?\n",
      "\n",
      "# Review from competitor 6\n",
      "\n",
      "Can harnessing quantum decoherence indeed be used to enhance computational speed, with potential applications in superconducting qubit-based systems, by precisely tuning the environment's influence on the quantum states?\n",
      "\n",
      "\n",
      "\n",
      "Now respond with the JSON with the ranked order of the competitors, nothing else. Do not include markdown formatting or code blocks.\n"
     ]
    }
   ],
   "source": [
    "print(judge)"
   ]
  },
  {
   "cell_type": "code",
   "execution_count": 56,
   "metadata": {},
   "outputs": [],
   "source": [
    "judge_messages = [{\"role\": \"user\", \"content\": judge}]"
   ]
  },
  {
   "cell_type": "code",
   "execution_count": 57,
   "metadata": {},
   "outputs": [
    {
     "name": "stdout",
     "output_type": "stream",
     "text": [
      "{\"results\": [\"4\", \"3\", \"5\", \"1\", \"6\", \"2\"]}\n"
     ]
    }
   ],
   "source": [
    "# Judgement time!\n",
    "\n",
    "openai = OpenAI()\n",
    "response = openai.chat.completions.create(\n",
    "    model=\"o3-mini\",\n",
    "    messages=judge_messages,\n",
    ")\n",
    "results = response.choices[0].message.content\n",
    "print(results)\n"
   ]
  },
  {
   "cell_type": "code",
   "execution_count": 58,
   "metadata": {},
   "outputs": [
    {
     "name": "stdout",
     "output_type": "stream",
     "text": [
      "Rank 1: deepseek-chat\n",
      "Rank 2: gemini-2.0-flash\n",
      "Rank 3: llama-3.3-70b-versatile\n",
      "Rank 4: gpt-4o-mini\n",
      "Rank 5: llama3.2\n",
      "Rank 6: claude-3-7-sonnet-latest\n"
     ]
    }
   ],
   "source": [
    "# OK let's turn this into results!\n",
    "\n",
    "results_dict = json.loads(results)\n",
    "ranks = results_dict[\"results\"]\n",
    "for index, result in enumerate(ranks):\n",
    "    competitor = competitors[int(result)-1]\n",
    "    print(f\"Rank {index+1}: {competitor}\")\n",
    "\n",
    "    "
   ]
  },
  {
   "cell_type": "code",
   "execution_count": 59,
   "metadata": {},
   "outputs": [
    {
     "name": "stdout",
     "output_type": "stream",
     "text": [
      "\n",
      "Improved Answer:\n"
     ]
    },
    {
     "data": {
      "text/markdown": [
       "Certainly! Here’s the revised answer incorporating your suggested improvements:\n",
       "\n",
       "Yes, it is indeed possible to consider harnessing quantum decoherence as a computational resource, and this idea represents a novel perspective in quantum information processing. Traditionally, quantum decoherence has been viewed as a limitation due to its role in undermining the superposition and entanglement essential for quantum computation. However, innovative approaches are beginning to explore how decoherence might actively contribute to emergent computational universality in open quantum systems, where environmental interactions inherently encode computational steps rather than merely causing a loss of coherence.\n",
       "\n",
       "Here are a few ways in which decoherence can be transformed into a resource for information processing:\n",
       "\n",
       "1. **Quantum Error Correction**: Quantum error correction codes are designed to protect quantum information against decoherence by encoding it in ways that allow for recovery even when some qubits lose coherence. Interestingly, advancements in error correction can be viewed as a method to exploit decoherent environments to enhance computational power. Techniques that leverage this understanding can lead to the development of fault-tolerant quantum computers, expanding the paradigm of decoherence in computation.\n",
       "\n",
       "2. **Decoherent Quantum Gates**: Research has focused on realizing quantum gates that operate effectively in decoherent regimes. These gates can take advantage of interactions with the environment, resulting in faster operations under certain conditions due to the robust nature of various interactions, particularly in open quantum systems.\n",
       "\n",
       "3. **Quantum Darwinism**: This concept describes how the environment can collectively record the states of quantum systems, allowing those states to be accessed by multiple observers. It leverages the notion that information is actively disseminated into the environment through decoherence, suggesting a mechanism for data distribution that could be harnessed for novel computational frameworks.\n",
       "\n",
       "4. **Measurement-based Quantum Computation**: In measurement-based quantum computation, processing information occurs through a series of measurements on an entangled state. Decoherence influences this process, as the entangled state interacts with the environment, potentially leading to emergent computational pathways depending on the structure of the measurements.\n",
       "\n",
       "5. **Hybrid Quantum-Classical Systems**: In hybrid systems that integrate quantum and classical elements, properties of decoherence can provide pathways for developing new algorithms, using classical noise not as a hindrance, but as a tool to control or guide quantum states.\n",
       "\n",
       "6. **Quantum Annealing and Coherent Control**: In quantum annealers, decoherence time can be strategically employed to explore optimization landscapes with greater efficiency. By carefully managing decoherent dynamics, one could discover new minima in complex optimization problems, capitalizing on the interaction with the environment.\n",
       "\n",
       "While the harnessing of decoherence is still an emerging field, these ideas illustrate that rather than being an inherent obstacle, the effects of decoherence could serve as the foundation for new paradigms in computation. This approach paves the way for innovative techniques and applications in quantum information science. Ongoing research is crucial to fully realize and refine these concepts, aiming to create robust systems that leverage, rather than counteract, the effects of quantum decoherence to unlock the potential of emergent computational universality in open quantum systems."
      ],
      "text/plain": [
       "<IPython.core.display.Markdown object>"
      ]
     },
     "metadata": {},
     "output_type": "display_data"
    }
   ],
   "source": [
    "# Get the top improvement\n",
    "top_improvement = reviews[int(ranks[0])-1]\n",
    "\n",
    "# Ask the original model to improve its answer\n",
    "improvement_request = f\"\"\"Based on this suggested improvement:\n",
    "{top_improvement}\n",
    "\n",
    "Please revise your original answer to incorporate this improvement. Keep the same structure but enhance it with these insights.\n",
    "\n",
    "Original answer:\n",
    "{answer}\"\"\"\n",
    "\n",
    "messages_update = [{\"role\": \"user\", \"content\": improvement_request}]\n",
    "\n",
    "# Get the improved answer from the original model\n",
    "response = openai.chat.completions.create(\n",
    "    model=model_answer,\n",
    "    messages=messages_update\n",
    ")\n",
    "improved_answer = response.choices[0].message.content\n",
    "\n",
    "print(\"\\nImproved Answer:\")\n",
    "display(Markdown(improved_answer))"
   ]
  },
  {
   "cell_type": "code",
   "execution_count": 65,
   "metadata": {},
   "outputs": [
    {
     "data": {
      "text/plain": [
       "None"
      ]
     },
     "metadata": {},
     "output_type": "display_data"
    }
   ],
   "source": [
    "data = {\n",
    "    \"generated_question\": question,\n",
    "    \"improved_answer\": improved_answer\n",
    "}\n",
    "\n",
    "with open(\"data.json\", \"w\", encoding=\"utf-8\") as f:\n",
    "    display (json.dump(data, f))"
   ]
  },
  {
   "cell_type": "code",
   "execution_count": 61,
   "metadata": {},
   "outputs": [],
   "source": [
    "# Empty the lists after use\n",
    "competitors = []\n",
    "answers = []\n",
    "reviews = []"
   ]
  },
  {
   "cell_type": "code",
   "execution_count": 62,
   "metadata": {},
   "outputs": [
    {
     "name": "stdout",
     "output_type": "stream",
     "text": [
      "[]\n",
      "[]\n",
      "[]\n"
     ]
    }
   ],
   "source": [
    "print(competitors)  # Should print: []\n",
    "print(answers)      # Should print: []\n",
    "print(reviews)      # Should print: []"
   ]
  },
  {
   "cell_type": "markdown",
   "metadata": {},
   "source": [
    "<table style=\"margin: 0; text-align: left; width:100%\">\n",
    "    <tr>\n",
    "        <td style=\"width: 150px; height: 150px; vertical-align: middle;\">\n",
    "            <img src=\"../assets/exercise.png\" width=\"150\" height=\"150\" style=\"display: block;\" />\n",
    "        </td>\n",
    "        <td>\n",
    "            <h2 style=\"color:#ff7800;\">Exercise</h2>\n",
    "            <span style=\"color:#ff7800;\">Which pattern(s) did this use? Try updating this to add another Agentic design pattern.\n",
    "            </span>\n",
    "        </td>\n",
    "    </tr>\n",
    "</table>"
   ]
  },
  {
   "cell_type": "markdown",
   "metadata": {},
   "source": [
    "<table style=\"margin: 0; text-align: left; width:100%\">\n",
    "    <tr>\n",
    "        <td style=\"width: 150px; height: 150px; vertical-align: middle;\">\n",
    "            <img src=\"../assets/business.png\" width=\"150\" height=\"150\" style=\"display: block;\" />\n",
    "        </td>\n",
    "        <td>\n",
    "            <h2 style=\"color:#00bfff;\">Commercial implications</h2>\n",
    "            <span style=\"color:#00bfff;\">These kinds of patterns - to send a task to multiple models, and evaluate results,\n",
    "            and common where you need to improve the quality of your LLM response. This approach can be universally applied\n",
    "            to business projects where accuracy is critical.\n",
    "            </span>\n",
    "        </td>\n",
    "    </tr>\n",
    "</table>"
   ]
  }
 ],
 "metadata": {
  "kernelspec": {
   "display_name": ".venv",
   "language": "python",
   "name": "python3"
  },
  "language_info": {
   "codemirror_mode": {
    "name": "ipython",
    "version": 3
   },
   "file_extension": ".py",
   "mimetype": "text/x-python",
   "name": "python",
   "nbconvert_exporter": "python",
   "pygments_lexer": "ipython3",
   "version": "3.12.10"
  }
 },
 "nbformat": 4,
 "nbformat_minor": 2
}
