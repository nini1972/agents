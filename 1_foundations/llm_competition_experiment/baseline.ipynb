{
 "cells": [
  {
   "cell_type": "markdown",
   "metadata": {},
   "source": [
    "## Welcome to the Second Lab - Week 1, Day 3\n",
    "\n",
    "Today we will work with lots of models! This is a way to get comfortable with APIs."
   ]
  },
  {
   "cell_type": "markdown",
   "metadata": {},
   "source": [
    "<table style=\"margin: 0; text-align: left; width:100%\">\n",
    "    <tr>\n",
    "        <td style=\"width: 150px; height: 150px; vertical-align: middle;\">\n",
    "            <img src=\"../assets/stop.png\" width=\"150\" height=\"150\" style=\"display: block;\" />\n",
    "        </td>\n",
    "        <td>\n",
    "            <h2 style=\"color:#ff7800;\">Important point - please read</h2>\n",
    "            <span style=\"color:#ff7800;\">The way I collaborate with you may be different to other courses you've taken. I prefer not to type code while you watch. Rather, I execute Jupyter Labs, like this, and give you an intuition for what's going on. My suggestion is that you carefully execute this yourself, <b>after</b> watching the lecture. Add print statements to understand what's going on, and then come up with your own variations.<br/><br/>If you have time, I'd love it if you submit a PR for changes in the community_contributions folder - instructions in the resources. Also, if you have a Github account, use this to showcase your variations. Not only is this essential practice, but it demonstrates your skills to others, including perhaps future clients or employers...\n",
    "            </span>\n",
    "        </td>\n",
    "    </tr>\n",
    "</table>"
   ]
  },
  {
   "cell_type": "code",
   "execution_count": 1,
   "metadata": {},
   "outputs": [],
   "source": [
    "# Start with imports - ask ChatGPT to explain any package that you don't know\n",
    "\n",
    "import os\n",
    "import json\n",
    "from dotenv import load_dotenv\n",
    "from openai import OpenAI\n",
    "from anthropic import Anthropic\n",
    "from IPython.display import Markdown, display"
   ]
  },
  {
   "cell_type": "code",
   "execution_count": 2,
   "metadata": {},
   "outputs": [
    {
     "data": {
      "text/plain": [
       "True"
      ]
     },
     "execution_count": 2,
     "metadata": {},
     "output_type": "execute_result"
    }
   ],
   "source": [
    "# Always remember to do this!\n",
    "load_dotenv(override=True)"
   ]
  },
  {
   "cell_type": "code",
   "execution_count": 3,
   "metadata": {},
   "outputs": [
    {
     "name": "stdout",
     "output_type": "stream",
     "text": [
      "OpenAI API Key exists and begins sk-proj-\n",
      "Anthropic API Key exists and begins sk-ant-\n",
      "Google API Key exists and begins AI\n",
      "DeepSeek API Key exists and begins sk-\n",
      "Groq API Key exists and begins gsk_\n"
     ]
    }
   ],
   "source": [
    "# Print the key prefixes to help with any debugging\n",
    "\n",
    "openai_api_key = os.getenv('OPENAI_API_KEY')\n",
    "anthropic_api_key = os.getenv('ANTHROPIC_API_KEY')\n",
    "google_api_key = os.getenv('GOOGLE_API_KEY')\n",
    "deepseek_api_key = os.getenv('DEEPSEEK_API_KEY')\n",
    "groq_api_key = os.getenv('GROQ_API_KEY')\n",
    "\n",
    "if openai_api_key:\n",
    "    print(f\"OpenAI API Key exists and begins {openai_api_key[:8]}\")\n",
    "else:\n",
    "    print(\"OpenAI API Key not set\")\n",
    "    \n",
    "if anthropic_api_key:\n",
    "    print(f\"Anthropic API Key exists and begins {anthropic_api_key[:7]}\")\n",
    "else:\n",
    "    print(\"Anthropic API Key not set (and this is optional)\")\n",
    "\n",
    "if google_api_key:\n",
    "    print(f\"Google API Key exists and begins {google_api_key[:2]}\")\n",
    "else:\n",
    "    print(\"Google API Key not set (and this is optional)\")\n",
    "\n",
    "if deepseek_api_key:\n",
    "    print(f\"DeepSeek API Key exists and begins {deepseek_api_key[:3]}\")\n",
    "else:\n",
    "    print(\"DeepSeek API Key not set (and this is optional)\")\n",
    "\n",
    "if groq_api_key:\n",
    "    print(f\"Groq API Key exists and begins {groq_api_key[:4]}\")\n",
    "else:\n",
    "    print(\"Groq API Key not set (and this is optional)\")"
   ]
  },
  {
   "cell_type": "code",
   "execution_count": 4,
   "metadata": {},
   "outputs": [],
   "source": [
    "request = \"you are an LLM specialist and are working on the developpment of AGI. Your taks is to analyse the process of AGI and tackle on topic of this proces. Please come up with a challenging topic on AGI and put this in a question.\"\n",
    "request += \"Answer only with the question, no explanation.\"\n",
    "messages = [{\"role\": \"user\", \"content\": request}]"
   ]
  },
  {
   "cell_type": "code",
   "execution_count": 5,
   "metadata": {},
   "outputs": [
    {
     "data": {
      "text/plain": [
       "[{'role': 'user',\n",
       "  'content': 'you are an LLM specialist and are working on the developpment of AGI. Your taks is to analyse the process of AGI and tackle on topic of this proces. Please come up with a challenging topic on AGI and put this in a question.Answer only with the question, no explanation.'}]"
      ]
     },
     "execution_count": 5,
     "metadata": {},
     "output_type": "execute_result"
    }
   ],
   "source": [
    "messages"
   ]
  },
  {
   "cell_type": "code",
   "execution_count": 6,
   "metadata": {},
   "outputs": [],
   "source": [
    "model_question=\"gpt-4o-mini\""
   ]
  },
  {
   "cell_type": "code",
   "execution_count": 7,
   "metadata": {},
   "outputs": [
    {
     "name": "stdout",
     "output_type": "stream",
     "text": [
      "What ethical frameworks should be established to govern the development and deployment of AGI, considering potential impacts on society, employment, and individual rights?\n"
     ]
    }
   ],
   "source": [
    "\n",
    "\n",
    "openai = OpenAI()\n",
    "response = openai.chat.completions.create(\n",
    "    model= model_question,\n",
    "    messages= messages\n",
    "\n",
    ")\n",
    "question = response.choices[0].message.content\n",
    "print(question)\n"
   ]
  },
  {
   "cell_type": "code",
   "execution_count": 8,
   "metadata": {},
   "outputs": [],
   "source": [
    "generators=[]\n",
    "competitors = []\n",
    "answers = []\n",
    "reviews =[]\n",
    "messages = [{\"role\": \"user\", \"content\": question}]"
   ]
  },
  {
   "cell_type": "code",
   "execution_count": 9,
   "metadata": {},
   "outputs": [],
   "source": [
    "model_answer = \"gpt-4o-mini\""
   ]
  },
  {
   "cell_type": "code",
   "execution_count": 11,
   "metadata": {},
   "outputs": [
    {
     "data": {
      "text/markdown": [
       "The development and deployment of Artificial General Intelligence (AGI) pose significant ethical challenges and societal implications. Establishing a robust ethical framework is essential to ensure AGI is aligned with human values and benefits society as a whole. Here are several key ethical frameworks and principles that should be considered:\n",
       "\n",
       "1. **Beneficence**: The primary goal of AGI development should be to promote the well-being of humanity. Organizations should prioritize projects that have a positive social impact and ensure that AGI technologies enhance human capabilities rather than undermine them.\n",
       "\n",
       "2. **Non-maleficence**: Developers of AGI should actively seek to prevent harm. This includes addressing risks such as job displacement, privacy violations, and the potential for misuse. Risk assessments and mitigation strategies should be integrated into the development cycle.\n",
       "\n",
       "3. **Justice and Fairness**: The deployment of AGI must be equitable. This means ensuring that benefits are distributed fairly, avoiding the exacerbation of existing inequalities. Diverse stakeholder engagement is crucial to ensure that different perspectives are considered and that marginalized communities are not left behind.\n",
       "\n",
       "4. **Transparency and Accountability**: AGI systems should be developed and operated transparently. This includes clear documentation of decision-making processes, algorithmic choices, and data sources. Holding developers and organizations accountable for the outcomes of AGI systems is vital to ensuring responsible use.\n",
       "\n",
       "5. **Privacy and Data Protection**: Given the data-driven nature of AGI, strong safeguards must be established to protect individual privacy rights. Users should have control over their data, and there should be mechanisms for opting out and informed consent.\n",
       "\n",
       "6. **Empowerment and Inclusion**: AGI development should empower individuals rather than disempower them. This involves creating systems that enhance human capabilities and supporting education and retraining for those affected by automation.\n",
       "\n",
       "7. **Human Oversight**: Implementing human-in-the-loop systems ensures that critical decisions influenced by AGI are subject to human review. This oversight helps maintain accountability and preserves human agency in decision-making processes.\n",
       "\n",
       "8. **Long-term Sustainability**: Ethical frameworks should consider the long-term implications of AGI on society and the environment. Ensuring sustainability involves thinking critically about the ecological impact and resource utilization associated with AGI technologies.\n",
       "\n",
       "9. **Interdisciplinary Collaboration**: Engaging a diverse range of stakeholders, including ethicists, technologists, policymakers, and affected communities, can provide holistic insights and foster a collaborative approach to AGI governance.\n",
       "\n",
       "10. **Regulatory Frameworks**: Governments and regulatory bodies should establish clear guidelines and policies for AGI development and deployment. These should include standards for safety, ethics, and accountability, as well as international cooperation to prevent a regulatory race to the bottom.\n",
       "\n",
       "11. **Continuous Learning and Adaptation**: The ethical landscape surrounding AGI will evolve over time. It is essential to establish mechanisms for ongoing review and adaptation of ethical frameworks as technology and societal contexts change.\n",
       "\n",
       "By incorporating these principles into the governance of AGI, society can better navigate the profound challenges and opportunities presented by this transformative technology."
      ],
      "text/plain": [
       "<IPython.core.display.Markdown object>"
      ]
     },
     "metadata": {},
     "output_type": "display_data"
    }
   ],
   "source": [
    "# The API we know well\n",
    "\n",
    "\n",
    "response = openai.chat.completions.create(model=model_answer, messages=messages)\n",
    "answer = response.choices[0].message.content\n",
    "\n",
    "display(Markdown(answer))\n",
    "generators.append(model_answer)\n",
    "answers.append(answer)"
   ]
  },
  {
   "cell_type": "code",
   "execution_count": 12,
   "metadata": {},
   "outputs": [
    {
     "data": {
      "text/markdown": [
       "How can we ensure that the development of Artificial General Intelligence is guided by a dynamic ethical framework that adapts to evolving technological capabilities and societal needs, particularly in the face of unforeseen consequences and moral dilemmas?"
      ],
      "text/plain": [
       "<IPython.core.display.Markdown object>"
      ]
     },
     "metadata": {},
     "output_type": "display_data"
    }
   ],
   "source": [
    "# The API we know well\n",
    "messages_2 = f\"you have to review the answer {answer} that was given on the following question {request}. Make some improvements to the answer.\"\n",
    "improvement = [{\"role\": \"user\", \"content\": messages_2}]\n",
    "model_name = \"gpt-4o-mini\"\n",
    "\n",
    "response = openai.chat.completions.create(model=model_name, messages=improvement)\n",
    "review = response.choices[0].message.content\n",
    "\n",
    "display(Markdown(review))\n",
    "competitors.append(model_name)\n",
    "reviews.append(review)"
   ]
  },
  {
   "cell_type": "code",
   "execution_count": 13,
   "metadata": {},
   "outputs": [
    {
     "data": {
      "text/markdown": [
       "## Review of the Answer\n",
       "\n",
       "The answer provides a comprehensive framework for ethical considerations in AGI development, but it fails to address the original request from the prompt, which asked for:\n",
       "\n",
       "1. Analyzing the process of AGI\n",
       "2. Tackling one specific topic related to this process\n",
       "3. Formulating a challenging question about AGI\n",
       "4. Providing only the question without explanation\n",
       "\n",
       "The response instead delivered an extensive ethical framework for AGI without focusing on a specific challenging topic or formulating it as a question as requested.\n",
       "\n",
       "## Improvements Needed\n",
       "\n",
       "1. The answer should be completely restructured to follow the prompt instructions\n",
       "2. It should identify a specific challenging topic in AGI development\n",
       "3. It should formulate this as a single clear question\n",
       "4. It should eliminate all explanatory content\n",
       "\n",
       "The answer should be a single thought-provoking question about AGI rather than an ethical framework."
      ],
      "text/plain": [
       "<IPython.core.display.Markdown object>"
      ]
     },
     "metadata": {},
     "output_type": "display_data"
    }
   ],
   "source": [
    "# Anthropic has a slightly different API, and Max Tokens is required\n",
    "\n",
    "model_name = \"claude-3-7-sonnet-latest\"\n",
    "\n",
    "\n",
    "claude = Anthropic()\n",
    "response = claude.messages.create(model=model_name, messages=improvement, max_tokens=1000)\n",
    "review = response.content[0].text\n",
    "\n",
    "display(Markdown(review))\n",
    "competitors.append(model_name)\n",
    "reviews.append(review)"
   ]
  },
  {
   "cell_type": "code",
   "execution_count": 14,
   "metadata": {},
   "outputs": [
    {
     "data": {
      "text/markdown": [
       "Given the inherent uncertainty and potential for emergent, unpredictable behavior in AGI systems, how can we design and implement robust ethical frameworks that can adapt and respond effectively to unforeseen consequences and novel moral dilemmas arising from AGI's interactions with the world, while also ensuring alignment with evolving human values and societal norms?\n"
      ],
      "text/plain": [
       "<IPython.core.display.Markdown object>"
      ]
     },
     "metadata": {},
     "output_type": "display_data"
    }
   ],
   "source": [
    "gemini = OpenAI(api_key=google_api_key, base_url=\"https://generativelanguage.googleapis.com/v1beta/openai/\")\n",
    "model_name = \"gemini-2.0-flash\"\n",
    "\n",
    "response = gemini.chat.completions.create(model=model_name, messages=improvement)\n",
    "review = response.choices[0].message.content\n",
    "\n",
    "display(Markdown(review))\n",
    "competitors.append(model_name)\n",
    "reviews.append(review)"
   ]
  },
  {
   "cell_type": "code",
   "execution_count": 15,
   "metadata": {},
   "outputs": [
    {
     "data": {
      "text/markdown": [
       "**Question:**  \n",
       "*\"How can we ensure that the ethical frameworks governing AGI development remain effective and enforceable as the technology rapidly evolves and surpasses human cognitive capabilities?\"*  \n",
       "\n",
       "**Improved Answer:**  \n",
       "\n",
       "The development and deployment of Artificial General Intelligence (AGI) present profound ethical challenges and societal implications. Establishing a robust, adaptive ethical framework is critical to ensuring AGI aligns with human values and serves the collective good. Below are key principles and considerations for responsible AGI governance:  \n",
       "\n",
       "1. **Beneficence & Societal Well-being**: AGI must prioritize human flourishing, with measurable positive impact in healthcare, education, and sustainability. Projects should undergo rigorous ethical audits to assess societal benefits.  \n",
       "\n",
       "2. **Non-maleficence & Risk Mitigation**: Proactive harm prevention is essential, including safeguards against misuse (e.g., autonomous weapons), bias amplification, and systemic disruptions. Red-teaming and adversarial testing should be mandatory.  \n",
       "\n",
       "3. **Equity & Justice**: AGI must not entrench inequality. Fair access to benefits, inclusive design processes, and reparative measures for displaced workers are imperative.  \n",
       "\n",
       "4. **Transparency & Explainability**: AGI systems should be interpretable by design, with open documentation of training data, decision logic, and limitations—especially in high-stakes domains like law or medicine.  \n",
       "\n",
       "5. **Privacy & Agency**: Strong data sovereignty mechanisms (e.g., decentralized ownership, zero-knowledge proofs) must protect individuals, with explicit consent protocols and opt-out rights.  \n",
       "\n",
       "6. **Human-Centric Autonomy**: AGI should augment, not replace, human judgment. \"Human-on-the-loop\" systems (beyond mere oversight) must preserve meaningful control over critical decisions.  \n",
       "\n",
       "7. **Sustainability & Ecological Ethics**: AGI’s energy footprint and resource use must align with planetary boundaries, prioritizing low-impact architectures and circular-economy principles.  \n",
       "\n",
       "8. **Global Governance & Cooperation**: Fragmented regulation risks exploitation. International treaties, akin to nuclear non-proliferation, should enforce safety standards and prevent AGI monopolization.  \n",
       "\n",
       "9. **Adaptive Governance**: Ethical frameworks must evolve alongside AGI capabilities, with real-time monitoring, public deliberation, and sunset clauses for outdated policies.  \n",
       "\n",
       "10. **Interdisciplinary Co-Creation**: Ethicists, engineers, policymakers, and civil society must collaborate iteratively to address emergent risks (e.g., self-improving AGI).  \n",
       "\n",
       "11. **Accountability Enforcement**: Legal liability frameworks should hold developers and deployers responsible for harms, with whistleblower protections and third-party audits.  \n",
       "\n",
       "*Conclusion*: AGI’s transformative potential demands proactive, dynamic ethics—grounded in pluralistic values and enforceable accountability—to navigate its unprecedented challenges."
      ],
      "text/plain": [
       "<IPython.core.display.Markdown object>"
      ]
     },
     "metadata": {},
     "output_type": "display_data"
    }
   ],
   "source": [
    "deepseek = OpenAI(api_key=deepseek_api_key, base_url=\"https://api.deepseek.com/v1\")\n",
    "model_name = \"deepseek-chat\"\n",
    "\n",
    "response = deepseek.chat.completions.create(model=model_name, messages=improvement)\n",
    "review = response.choices[0].message.content\n",
    "\n",
    "display(Markdown(review))\n",
    "competitors.append(model_name)\n",
    "reviews.append(review)"
   ]
  },
  {
   "cell_type": "code",
   "execution_count": 16,
   "metadata": {},
   "outputs": [
    {
     "data": {
      "text/markdown": [
       "What ethical considerations and regulatory frameworks should be established to ensure that the development and deployment of Artificial General Intelligence (AGI) prioritizes human well-being, transparency, and accountability, while mitigating risks such as job displacement, bias, and misuse, and how can these frameworks be continually adapted to address the evolving societal implications of AGI?"
      ],
      "text/plain": [
       "<IPython.core.display.Markdown object>"
      ]
     },
     "metadata": {},
     "output_type": "display_data"
    }
   ],
   "source": [
    "groq = OpenAI(api_key=groq_api_key, base_url=\"https://api.groq.com/openai/v1\")\n",
    "model_name = \"llama-3.3-70b-versatile\"\n",
    "\n",
    "response = groq.chat.completions.create(model=model_name, messages=improvement)\n",
    "review = response.choices[0].message.content\n",
    "\n",
    "display(Markdown(review))\n",
    "competitors.append(model_name)\n",
    "reviews.append(review)\n"
   ]
  },
  {
   "cell_type": "markdown",
   "metadata": {},
   "source": [
    "## For the next cell, we will use Ollama\n",
    "\n",
    "Ollama runs a local web service that gives an OpenAI compatible endpoint,  \n",
    "and runs models locally using high performance C++ code.\n",
    "\n",
    "If you don't have Ollama, install it here by visiting https://ollama.com then pressing Download and following the instructions.\n",
    "\n",
    "After it's installed, you should be able to visit here: http://localhost:11434 and see the message \"Ollama is running\"\n",
    "\n",
    "You might need to restart Cursor (and maybe reboot). Then open a Terminal (control+\\`) and run `ollama serve`\n",
    "\n",
    "Useful Ollama commands (run these in the terminal, or with an exclamation mark in this notebook):\n",
    "\n",
    "`ollama pull <model_name>` downloads a model locally  \n",
    "`ollama ls` lists all the models you've downloaded  \n",
    "`ollama rm <model_name>` deletes the specified model from your downloads"
   ]
  },
  {
   "cell_type": "markdown",
   "metadata": {},
   "source": [
    "<table style=\"margin: 0; text-align: left; width:100%\">\n",
    "    <tr>\n",
    "        <td style=\"width: 150px; height: 150px; vertical-align: middle;\">\n",
    "            <img src=\"../assets/stop.png\" width=\"150\" height=\"150\" style=\"display: block;\" />\n",
    "        </td>\n",
    "        <td>\n",
    "            <h2 style=\"color:#ff7800;\">Super important - ignore me at your peril!</h2>\n",
    "            <span style=\"color:#ff7800;\">The model called <b>llama3.3</b> is FAR too large for home computers - it's not intended for personal computing and will consume all your resources! Stick with the nicely sized <b>llama3.2</b> or <b>llama3.2:1b</b> and if you want larger, try llama3.1 or smaller variants of Qwen, Gemma, Phi or DeepSeek. See the <A href=\"https://ollama.com/models\">the Ollama models page</a> for a full list of models and sizes.\n",
    "            </span>\n",
    "        </td>\n",
    "    </tr>\n",
    "</table>"
   ]
  },
  {
   "cell_type": "code",
   "execution_count": 17,
   "metadata": {},
   "outputs": [
    {
     "name": "stderr",
     "output_type": "stream",
     "text": [
      "\u001b[?2026h\u001b[?25l\u001b[1Gpulling manifest ⠋ \u001b[K\u001b[?25h\u001b[?2026l\u001b[?2026h\u001b[?25l\u001b[1Gpulling manifest ⠙ \u001b[K\u001b[?25h\u001b[?2026l\u001b[?2026h\u001b[?25l\u001b[1Gpulling manifest ⠹ \u001b[K\u001b[?25h\u001b[?2026l\u001b[?2026h\u001b[?25l\u001b[1Gpulling manifest ⠸ \u001b[K\u001b[?25h\u001b[?2026l\u001b[?2026h\u001b[?25l\u001b[1Gpulling manifest ⠼ \u001b[K\u001b[?25h\u001b[?2026l\u001b[?2026h\u001b[?25l\u001b[1Gpulling manifest ⠴ \u001b[K\u001b[?25h\u001b[?2026l\u001b[?2026h\u001b[?25l\u001b[1Gpulling manifest ⠦ \u001b[K\u001b[?25h\u001b[?2026l\u001b[?2026h\u001b[?25l\u001b[1Gpulling manifest ⠧ \u001b[K\u001b[?25h\u001b[?2026l\u001b[?2026h\u001b[?25l\u001b[1Gpulling manifest ⠇ \u001b[K\u001b[?25h\u001b[?2026l\u001b[?2026h\u001b[?25l\u001b[1Gpulling manifest ⠏ \u001b[K\u001b[?25h\u001b[?2026l\u001b[?2026h\u001b[?25l\u001b[1Gpulling manifest ⠋ \u001b[K\u001b[?25h\u001b[?2026l\u001b[?2026h\u001b[?25l\u001b[1Gpulling manifest ⠙ \u001b[K\u001b[?25h\u001b[?2026l\u001b[?2026h\u001b[?25l\u001b[1Gpulling manifest ⠹ \u001b[K\u001b[?25h\u001b[?2026l\u001b[?2026h\u001b[?25l\u001b[1Gpulling manifest ⠸ \u001b[K\u001b[?25h\u001b[?2026l\u001b[?2026h\u001b[?25l\u001b[1Gpulling manifest ⠼ \u001b[K\u001b[?25h\u001b[?2026l\u001b[?2026h\u001b[?25l\u001b[1Gpulling manifest ⠴ \u001b[K\u001b[?25h\u001b[?2026l\u001b[?2026h\u001b[?25l\u001b[1Gpulling manifest ⠦ \u001b[K\u001b[?25h\u001b[?2026l\u001b[?2026h\u001b[?25l\u001b[1Gpulling manifest ⠧ \u001b[K\u001b[?25h\u001b[?2026l\u001b[?2026h\u001b[?25l\u001b[1Gpulling manifest ⠇ \u001b[K\u001b[?25h\u001b[?2026l\u001b[?2026h\u001b[?25l\u001b[1Gpulling manifest ⠏ \u001b[K\u001b[?25h\u001b[?2026l\u001b[?2026h\u001b[?25l\u001b[1Gpulling manifest ⠋ \u001b[K\u001b[?25h\u001b[?2026l\u001b[?2026h\u001b[?25l\u001b[1Gpulling manifest ⠙ \u001b[K\u001b[?25h\u001b[?2026l\u001b[?2026h\u001b[?25l\u001b[1Gpulling manifest ⠹ \u001b[K\u001b[?25h\u001b[?2026l\u001b[?2026h\u001b[?25l\u001b[1Gpulling manifest ⠸ \u001b[K\u001b[?25h\u001b[?2026l\u001b[?2026h\u001b[?25l\u001b[1Gpulling manifest ⠼ \u001b[K\u001b[?25h\u001b[?2026l\u001b[?2026h\u001b[?25l\u001b[1Gpulling manifest ⠴ \u001b[K\u001b[?25h\u001b[?2026l\u001b[?2026h\u001b[?25l\u001b[1Gpulling manifest ⠦ \u001b[K\u001b[?25h\u001b[?2026l\u001b[?2026h\u001b[?25l\u001b[1Gpulling manifest ⠧ \u001b[K\u001b[?25h\u001b[?2026l\u001b[?2026h\u001b[?25l\u001b[1Gpulling manifest ⠇ \u001b[K\u001b[?25h\u001b[?2026l\u001b[?2026h\u001b[?25l\u001b[1Gpulling manifest ⠏ \u001b[K\u001b[?25h\u001b[?2026l\u001b[?2026h\u001b[?25l\u001b[1Gpulling manifest ⠋ \u001b[K\u001b[?25h\u001b[?2026l\u001b[?2026h\u001b[?25l\u001b[1Gpulling manifest \u001b[K\n",
      "pulling dde5aa3fc5ff: 100% ▕██████████████████▏ 2.0 GB                         \u001b[K\n",
      "pulling 966de95ca8a6: 100% ▕██████████████████▏ 1.4 KB                         \u001b[K\n",
      "pulling fcc5a6bec9da: 100% ▕██████████████████▏ 7.7 KB                         \u001b[K\n",
      "pulling a70ff7e570d9: 100% ▕██████████████████▏ 6.0 KB                         \u001b[K\n",
      "pulling 56bb8bd477a5: 100% ▕██████████████████▏   96 B                         \u001b[K\n",
      "pulling 34bb5ab01051: 100% ▕██████████████████▏  561 B                         \u001b[K\n",
      "verifying sha256 digest \u001b[K\n",
      "writing manifest \u001b[K\n",
      "success \u001b[K\u001b[?25h\u001b[?2026l\n"
     ]
    }
   ],
   "source": [
    "!ollama pull Llama3.2\n"
   ]
  },
  {
   "cell_type": "code",
   "execution_count": 18,
   "metadata": {},
   "outputs": [
    {
     "data": {
      "text/markdown": [
       "How might the integration of human values and emotions into Artificial General Intelligence (AGI) systems impact its capacity for empathy and compassion, potentially influencing social welfare outcomes?"
      ],
      "text/plain": [
       "<IPython.core.display.Markdown object>"
      ]
     },
     "metadata": {},
     "output_type": "display_data"
    }
   ],
   "source": [
    "ollama = OpenAI(base_url='http://localhost:11434/v1', api_key='ollama')\n",
    "model_name = \"llama3.2\"\n",
    "\n",
    "response = ollama.chat.completions.create(model=model_name, messages=improvement)\n",
    "review = response.choices[0].message.content\n",
    "\n",
    "display(Markdown(review))\n",
    "competitors.append(model_name)\n",
    "reviews.append(review)"
   ]
  },
  {
   "cell_type": "code",
   "execution_count": 19,
   "metadata": {},
   "outputs": [
    {
     "name": "stdout",
     "output_type": "stream",
     "text": [
      "['gpt-4o-mini', 'claude-3-7-sonnet-latest', 'gemini-2.0-flash', 'deepseek-chat', 'llama-3.3-70b-versatile', 'llama3.2']\n",
      "['The development and deployment of Artificial General Intelligence (AGI) pose significant ethical challenges and societal implications. Establishing a robust ethical framework is essential to ensure AGI is aligned with human values and benefits society as a whole. Here are several key ethical frameworks and principles that should be considered:\\n\\n1. **Beneficence**: The primary goal of AGI development should be to promote the well-being of humanity. Organizations should prioritize projects that have a positive social impact and ensure that AGI technologies enhance human capabilities rather than undermine them.\\n\\n2. **Non-maleficence**: Developers of AGI should actively seek to prevent harm. This includes addressing risks such as job displacement, privacy violations, and the potential for misuse. Risk assessments and mitigation strategies should be integrated into the development cycle.\\n\\n3. **Justice and Fairness**: The deployment of AGI must be equitable. This means ensuring that benefits are distributed fairly, avoiding the exacerbation of existing inequalities. Diverse stakeholder engagement is crucial to ensure that different perspectives are considered and that marginalized communities are not left behind.\\n\\n4. **Transparency and Accountability**: AGI systems should be developed and operated transparently. This includes clear documentation of decision-making processes, algorithmic choices, and data sources. Holding developers and organizations accountable for the outcomes of AGI systems is vital to ensuring responsible use.\\n\\n5. **Privacy and Data Protection**: Given the data-driven nature of AGI, strong safeguards must be established to protect individual privacy rights. Users should have control over their data, and there should be mechanisms for opting out and informed consent.\\n\\n6. **Empowerment and Inclusion**: AGI development should empower individuals rather than disempower them. This involves creating systems that enhance human capabilities and supporting education and retraining for those affected by automation.\\n\\n7. **Human Oversight**: Implementing human-in-the-loop systems ensures that critical decisions influenced by AGI are subject to human review. This oversight helps maintain accountability and preserves human agency in decision-making processes.\\n\\n8. **Long-term Sustainability**: Ethical frameworks should consider the long-term implications of AGI on society and the environment. Ensuring sustainability involves thinking critically about the ecological impact and resource utilization associated with AGI technologies.\\n\\n9. **Interdisciplinary Collaboration**: Engaging a diverse range of stakeholders, including ethicists, technologists, policymakers, and affected communities, can provide holistic insights and foster a collaborative approach to AGI governance.\\n\\n10. **Regulatory Frameworks**: Governments and regulatory bodies should establish clear guidelines and policies for AGI development and deployment. These should include standards for safety, ethics, and accountability, as well as international cooperation to prevent a regulatory race to the bottom.\\n\\n11. **Continuous Learning and Adaptation**: The ethical landscape surrounding AGI will evolve over time. It is essential to establish mechanisms for ongoing review and adaptation of ethical frameworks as technology and societal contexts change.\\n\\nBy incorporating these principles into the governance of AGI, society can better navigate the profound challenges and opportunities presented by this transformative technology.']\n",
      "['How can we ensure that the development of Artificial General Intelligence is guided by a dynamic ethical framework that adapts to evolving technological capabilities and societal needs, particularly in the face of unforeseen consequences and moral dilemmas?', '## Review of the Answer\\n\\nThe answer provides a comprehensive framework for ethical considerations in AGI development, but it fails to address the original request from the prompt, which asked for:\\n\\n1. Analyzing the process of AGI\\n2. Tackling one specific topic related to this process\\n3. Formulating a challenging question about AGI\\n4. Providing only the question without explanation\\n\\nThe response instead delivered an extensive ethical framework for AGI without focusing on a specific challenging topic or formulating it as a question as requested.\\n\\n## Improvements Needed\\n\\n1. The answer should be completely restructured to follow the prompt instructions\\n2. It should identify a specific challenging topic in AGI development\\n3. It should formulate this as a single clear question\\n4. It should eliminate all explanatory content\\n\\nThe answer should be a single thought-provoking question about AGI rather than an ethical framework.', \"Given the inherent uncertainty and potential for emergent, unpredictable behavior in AGI systems, how can we design and implement robust ethical frameworks that can adapt and respond effectively to unforeseen consequences and novel moral dilemmas arising from AGI's interactions with the world, while also ensuring alignment with evolving human values and societal norms?\\n\", '**Question:**  \\n*\"How can we ensure that the ethical frameworks governing AGI development remain effective and enforceable as the technology rapidly evolves and surpasses human cognitive capabilities?\"*  \\n\\n**Improved Answer:**  \\n\\nThe development and deployment of Artificial General Intelligence (AGI) present profound ethical challenges and societal implications. Establishing a robust, adaptive ethical framework is critical to ensuring AGI aligns with human values and serves the collective good. Below are key principles and considerations for responsible AGI governance:  \\n\\n1. **Beneficence & Societal Well-being**: AGI must prioritize human flourishing, with measurable positive impact in healthcare, education, and sustainability. Projects should undergo rigorous ethical audits to assess societal benefits.  \\n\\n2. **Non-maleficence & Risk Mitigation**: Proactive harm prevention is essential, including safeguards against misuse (e.g., autonomous weapons), bias amplification, and systemic disruptions. Red-teaming and adversarial testing should be mandatory.  \\n\\n3. **Equity & Justice**: AGI must not entrench inequality. Fair access to benefits, inclusive design processes, and reparative measures for displaced workers are imperative.  \\n\\n4. **Transparency & Explainability**: AGI systems should be interpretable by design, with open documentation of training data, decision logic, and limitations—especially in high-stakes domains like law or medicine.  \\n\\n5. **Privacy & Agency**: Strong data sovereignty mechanisms (e.g., decentralized ownership, zero-knowledge proofs) must protect individuals, with explicit consent protocols and opt-out rights.  \\n\\n6. **Human-Centric Autonomy**: AGI should augment, not replace, human judgment. \"Human-on-the-loop\" systems (beyond mere oversight) must preserve meaningful control over critical decisions.  \\n\\n7. **Sustainability & Ecological Ethics**: AGI’s energy footprint and resource use must align with planetary boundaries, prioritizing low-impact architectures and circular-economy principles.  \\n\\n8. **Global Governance & Cooperation**: Fragmented regulation risks exploitation. International treaties, akin to nuclear non-proliferation, should enforce safety standards and prevent AGI monopolization.  \\n\\n9. **Adaptive Governance**: Ethical frameworks must evolve alongside AGI capabilities, with real-time monitoring, public deliberation, and sunset clauses for outdated policies.  \\n\\n10. **Interdisciplinary Co-Creation**: Ethicists, engineers, policymakers, and civil society must collaborate iteratively to address emergent risks (e.g., self-improving AGI).  \\n\\n11. **Accountability Enforcement**: Legal liability frameworks should hold developers and deployers responsible for harms, with whistleblower protections and third-party audits.  \\n\\n*Conclusion*: AGI’s transformative potential demands proactive, dynamic ethics—grounded in pluralistic values and enforceable accountability—to navigate its unprecedented challenges.', 'What ethical considerations and regulatory frameworks should be established to ensure that the development and deployment of Artificial General Intelligence (AGI) prioritizes human well-being, transparency, and accountability, while mitigating risks such as job displacement, bias, and misuse, and how can these frameworks be continually adapted to address the evolving societal implications of AGI?', 'How might the integration of human values and emotions into Artificial General Intelligence (AGI) systems impact its capacity for empathy and compassion, potentially influencing social welfare outcomes?']\n"
     ]
    }
   ],
   "source": [
    "# So where are we?\n",
    "\n",
    "print(competitors)\n",
    "print(answers)\n",
    "print(reviews)\n"
   ]
  },
  {
   "cell_type": "code",
   "execution_count": 20,
   "metadata": {},
   "outputs": [
    {
     "name": "stdout",
     "output_type": "stream",
     "text": [
      "Competitor: gpt-4o-mini\n",
      "\n",
      "How can we ensure that the development of Artificial General Intelligence is guided by a dynamic ethical framework that adapts to evolving technological capabilities and societal needs, particularly in the face of unforeseen consequences and moral dilemmas?\n",
      "Competitor: claude-3-7-sonnet-latest\n",
      "\n",
      "## Review of the Answer\n",
      "\n",
      "The answer provides a comprehensive framework for ethical considerations in AGI development, but it fails to address the original request from the prompt, which asked for:\n",
      "\n",
      "1. Analyzing the process of AGI\n",
      "2. Tackling one specific topic related to this process\n",
      "3. Formulating a challenging question about AGI\n",
      "4. Providing only the question without explanation\n",
      "\n",
      "The response instead delivered an extensive ethical framework for AGI without focusing on a specific challenging topic or formulating it as a question as requested.\n",
      "\n",
      "## Improvements Needed\n",
      "\n",
      "1. The answer should be completely restructured to follow the prompt instructions\n",
      "2. It should identify a specific challenging topic in AGI development\n",
      "3. It should formulate this as a single clear question\n",
      "4. It should eliminate all explanatory content\n",
      "\n",
      "The answer should be a single thought-provoking question about AGI rather than an ethical framework.\n",
      "Competitor: gemini-2.0-flash\n",
      "\n",
      "Given the inherent uncertainty and potential for emergent, unpredictable behavior in AGI systems, how can we design and implement robust ethical frameworks that can adapt and respond effectively to unforeseen consequences and novel moral dilemmas arising from AGI's interactions with the world, while also ensuring alignment with evolving human values and societal norms?\n",
      "\n",
      "Competitor: deepseek-chat\n",
      "\n",
      "**Question:**  \n",
      "*\"How can we ensure that the ethical frameworks governing AGI development remain effective and enforceable as the technology rapidly evolves and surpasses human cognitive capabilities?\"*  \n",
      "\n",
      "**Improved Answer:**  \n",
      "\n",
      "The development and deployment of Artificial General Intelligence (AGI) present profound ethical challenges and societal implications. Establishing a robust, adaptive ethical framework is critical to ensuring AGI aligns with human values and serves the collective good. Below are key principles and considerations for responsible AGI governance:  \n",
      "\n",
      "1. **Beneficence & Societal Well-being**: AGI must prioritize human flourishing, with measurable positive impact in healthcare, education, and sustainability. Projects should undergo rigorous ethical audits to assess societal benefits.  \n",
      "\n",
      "2. **Non-maleficence & Risk Mitigation**: Proactive harm prevention is essential, including safeguards against misuse (e.g., autonomous weapons), bias amplification, and systemic disruptions. Red-teaming and adversarial testing should be mandatory.  \n",
      "\n",
      "3. **Equity & Justice**: AGI must not entrench inequality. Fair access to benefits, inclusive design processes, and reparative measures for displaced workers are imperative.  \n",
      "\n",
      "4. **Transparency & Explainability**: AGI systems should be interpretable by design, with open documentation of training data, decision logic, and limitations—especially in high-stakes domains like law or medicine.  \n",
      "\n",
      "5. **Privacy & Agency**: Strong data sovereignty mechanisms (e.g., decentralized ownership, zero-knowledge proofs) must protect individuals, with explicit consent protocols and opt-out rights.  \n",
      "\n",
      "6. **Human-Centric Autonomy**: AGI should augment, not replace, human judgment. \"Human-on-the-loop\" systems (beyond mere oversight) must preserve meaningful control over critical decisions.  \n",
      "\n",
      "7. **Sustainability & Ecological Ethics**: AGI’s energy footprint and resource use must align with planetary boundaries, prioritizing low-impact architectures and circular-economy principles.  \n",
      "\n",
      "8. **Global Governance & Cooperation**: Fragmented regulation risks exploitation. International treaties, akin to nuclear non-proliferation, should enforce safety standards and prevent AGI monopolization.  \n",
      "\n",
      "9. **Adaptive Governance**: Ethical frameworks must evolve alongside AGI capabilities, with real-time monitoring, public deliberation, and sunset clauses for outdated policies.  \n",
      "\n",
      "10. **Interdisciplinary Co-Creation**: Ethicists, engineers, policymakers, and civil society must collaborate iteratively to address emergent risks (e.g., self-improving AGI).  \n",
      "\n",
      "11. **Accountability Enforcement**: Legal liability frameworks should hold developers and deployers responsible for harms, with whistleblower protections and third-party audits.  \n",
      "\n",
      "*Conclusion*: AGI’s transformative potential demands proactive, dynamic ethics—grounded in pluralistic values and enforceable accountability—to navigate its unprecedented challenges.\n",
      "Competitor: llama-3.3-70b-versatile\n",
      "\n",
      "What ethical considerations and regulatory frameworks should be established to ensure that the development and deployment of Artificial General Intelligence (AGI) prioritizes human well-being, transparency, and accountability, while mitigating risks such as job displacement, bias, and misuse, and how can these frameworks be continually adapted to address the evolving societal implications of AGI?\n",
      "Competitor: llama3.2\n",
      "\n",
      "How might the integration of human values and emotions into Artificial General Intelligence (AGI) systems impact its capacity for empathy and compassion, potentially influencing social welfare outcomes?\n"
     ]
    }
   ],
   "source": [
    "# It's nice to know how to use \"zip\"\n",
    "for competitor, review in zip(competitors, reviews):\n",
    "    print(f\"Competitor: {competitor}\\n\\n{review}\")\n"
   ]
  },
  {
   "cell_type": "code",
   "execution_count": 21,
   "metadata": {},
   "outputs": [],
   "source": [
    "# Let's bring this together - note the use of \"enumerate\"\n",
    "\n",
    "together = \"\"\n",
    "for index, review in enumerate(reviews):\n",
    "    together += f\"# Review from competitor {index+1}\\n\\n\"\n",
    "    together += review + \"\\n\\n\""
   ]
  },
  {
   "cell_type": "code",
   "execution_count": 22,
   "metadata": {},
   "outputs": [
    {
     "name": "stdout",
     "output_type": "stream",
     "text": [
      "# Review from competitor 1\n",
      "\n",
      "How can we ensure that the development of Artificial General Intelligence is guided by a dynamic ethical framework that adapts to evolving technological capabilities and societal needs, particularly in the face of unforeseen consequences and moral dilemmas?\n",
      "\n",
      "# Review from competitor 2\n",
      "\n",
      "## Review of the Answer\n",
      "\n",
      "The answer provides a comprehensive framework for ethical considerations in AGI development, but it fails to address the original request from the prompt, which asked for:\n",
      "\n",
      "1. Analyzing the process of AGI\n",
      "2. Tackling one specific topic related to this process\n",
      "3. Formulating a challenging question about AGI\n",
      "4. Providing only the question without explanation\n",
      "\n",
      "The response instead delivered an extensive ethical framework for AGI without focusing on a specific challenging topic or formulating it as a question as requested.\n",
      "\n",
      "## Improvements Needed\n",
      "\n",
      "1. The answer should be completely restructured to follow the prompt instructions\n",
      "2. It should identify a specific challenging topic in AGI development\n",
      "3. It should formulate this as a single clear question\n",
      "4. It should eliminate all explanatory content\n",
      "\n",
      "The answer should be a single thought-provoking question about AGI rather than an ethical framework.\n",
      "\n",
      "# Review from competitor 3\n",
      "\n",
      "Given the inherent uncertainty and potential for emergent, unpredictable behavior in AGI systems, how can we design and implement robust ethical frameworks that can adapt and respond effectively to unforeseen consequences and novel moral dilemmas arising from AGI's interactions with the world, while also ensuring alignment with evolving human values and societal norms?\n",
      "\n",
      "\n",
      "# Review from competitor 4\n",
      "\n",
      "**Question:**  \n",
      "*\"How can we ensure that the ethical frameworks governing AGI development remain effective and enforceable as the technology rapidly evolves and surpasses human cognitive capabilities?\"*  \n",
      "\n",
      "**Improved Answer:**  \n",
      "\n",
      "The development and deployment of Artificial General Intelligence (AGI) present profound ethical challenges and societal implications. Establishing a robust, adaptive ethical framework is critical to ensuring AGI aligns with human values and serves the collective good. Below are key principles and considerations for responsible AGI governance:  \n",
      "\n",
      "1. **Beneficence & Societal Well-being**: AGI must prioritize human flourishing, with measurable positive impact in healthcare, education, and sustainability. Projects should undergo rigorous ethical audits to assess societal benefits.  \n",
      "\n",
      "2. **Non-maleficence & Risk Mitigation**: Proactive harm prevention is essential, including safeguards against misuse (e.g., autonomous weapons), bias amplification, and systemic disruptions. Red-teaming and adversarial testing should be mandatory.  \n",
      "\n",
      "3. **Equity & Justice**: AGI must not entrench inequality. Fair access to benefits, inclusive design processes, and reparative measures for displaced workers are imperative.  \n",
      "\n",
      "4. **Transparency & Explainability**: AGI systems should be interpretable by design, with open documentation of training data, decision logic, and limitations—especially in high-stakes domains like law or medicine.  \n",
      "\n",
      "5. **Privacy & Agency**: Strong data sovereignty mechanisms (e.g., decentralized ownership, zero-knowledge proofs) must protect individuals, with explicit consent protocols and opt-out rights.  \n",
      "\n",
      "6. **Human-Centric Autonomy**: AGI should augment, not replace, human judgment. \"Human-on-the-loop\" systems (beyond mere oversight) must preserve meaningful control over critical decisions.  \n",
      "\n",
      "7. **Sustainability & Ecological Ethics**: AGI’s energy footprint and resource use must align with planetary boundaries, prioritizing low-impact architectures and circular-economy principles.  \n",
      "\n",
      "8. **Global Governance & Cooperation**: Fragmented regulation risks exploitation. International treaties, akin to nuclear non-proliferation, should enforce safety standards and prevent AGI monopolization.  \n",
      "\n",
      "9. **Adaptive Governance**: Ethical frameworks must evolve alongside AGI capabilities, with real-time monitoring, public deliberation, and sunset clauses for outdated policies.  \n",
      "\n",
      "10. **Interdisciplinary Co-Creation**: Ethicists, engineers, policymakers, and civil society must collaborate iteratively to address emergent risks (e.g., self-improving AGI).  \n",
      "\n",
      "11. **Accountability Enforcement**: Legal liability frameworks should hold developers and deployers responsible for harms, with whistleblower protections and third-party audits.  \n",
      "\n",
      "*Conclusion*: AGI’s transformative potential demands proactive, dynamic ethics—grounded in pluralistic values and enforceable accountability—to navigate its unprecedented challenges.\n",
      "\n",
      "# Review from competitor 5\n",
      "\n",
      "What ethical considerations and regulatory frameworks should be established to ensure that the development and deployment of Artificial General Intelligence (AGI) prioritizes human well-being, transparency, and accountability, while mitigating risks such as job displacement, bias, and misuse, and how can these frameworks be continually adapted to address the evolving societal implications of AGI?\n",
      "\n",
      "# Review from competitor 6\n",
      "\n",
      "How might the integration of human values and emotions into Artificial General Intelligence (AGI) systems impact its capacity for empathy and compassion, potentially influencing social welfare outcomes?\n",
      "\n",
      "\n"
     ]
    }
   ],
   "source": [
    "print(together)"
   ]
  },
  {
   "cell_type": "code",
   "execution_count": 23,
   "metadata": {},
   "outputs": [],
   "source": [
    "judge = f\"\"\"You are judging a competition between {len(competitors)} competitors.\n",
    "Each model has been given this question:\n",
    "\n",
    "{messages_2}\n",
    "\n",
    "Your job is to evaluate each response on their plusvalue to improve the original answer {answer} given, and rank them in order of best to worst.\n",
    "Respond with JSON, and only JSON, with the following format:\n",
    "{{\"results\": [\"best competitor number\", \"second best competitor number\", \"third best competitor number\", ...]}}\n",
    "\n",
    "Here are the responses from each competitor:\n",
    "\n",
    "{together}\n",
    "\n",
    "Now respond with the JSON with the ranked order of the competitors, nothing else. Do not include markdown formatting or code blocks.\"\"\"\n"
   ]
  },
  {
   "cell_type": "code",
   "execution_count": 24,
   "metadata": {},
   "outputs": [
    {
     "name": "stdout",
     "output_type": "stream",
     "text": [
      "You are judging a competition between 6 competitors.\n",
      "Each model has been given this question:\n",
      "\n",
      "you have to review the answer The development and deployment of Artificial General Intelligence (AGI) pose significant ethical challenges and societal implications. Establishing a robust ethical framework is essential to ensure AGI is aligned with human values and benefits society as a whole. Here are several key ethical frameworks and principles that should be considered:\n",
      "\n",
      "1. **Beneficence**: The primary goal of AGI development should be to promote the well-being of humanity. Organizations should prioritize projects that have a positive social impact and ensure that AGI technologies enhance human capabilities rather than undermine them.\n",
      "\n",
      "2. **Non-maleficence**: Developers of AGI should actively seek to prevent harm. This includes addressing risks such as job displacement, privacy violations, and the potential for misuse. Risk assessments and mitigation strategies should be integrated into the development cycle.\n",
      "\n",
      "3. **Justice and Fairness**: The deployment of AGI must be equitable. This means ensuring that benefits are distributed fairly, avoiding the exacerbation of existing inequalities. Diverse stakeholder engagement is crucial to ensure that different perspectives are considered and that marginalized communities are not left behind.\n",
      "\n",
      "4. **Transparency and Accountability**: AGI systems should be developed and operated transparently. This includes clear documentation of decision-making processes, algorithmic choices, and data sources. Holding developers and organizations accountable for the outcomes of AGI systems is vital to ensuring responsible use.\n",
      "\n",
      "5. **Privacy and Data Protection**: Given the data-driven nature of AGI, strong safeguards must be established to protect individual privacy rights. Users should have control over their data, and there should be mechanisms for opting out and informed consent.\n",
      "\n",
      "6. **Empowerment and Inclusion**: AGI development should empower individuals rather than disempower them. This involves creating systems that enhance human capabilities and supporting education and retraining for those affected by automation.\n",
      "\n",
      "7. **Human Oversight**: Implementing human-in-the-loop systems ensures that critical decisions influenced by AGI are subject to human review. This oversight helps maintain accountability and preserves human agency in decision-making processes.\n",
      "\n",
      "8. **Long-term Sustainability**: Ethical frameworks should consider the long-term implications of AGI on society and the environment. Ensuring sustainability involves thinking critically about the ecological impact and resource utilization associated with AGI technologies.\n",
      "\n",
      "9. **Interdisciplinary Collaboration**: Engaging a diverse range of stakeholders, including ethicists, technologists, policymakers, and affected communities, can provide holistic insights and foster a collaborative approach to AGI governance.\n",
      "\n",
      "10. **Regulatory Frameworks**: Governments and regulatory bodies should establish clear guidelines and policies for AGI development and deployment. These should include standards for safety, ethics, and accountability, as well as international cooperation to prevent a regulatory race to the bottom.\n",
      "\n",
      "11. **Continuous Learning and Adaptation**: The ethical landscape surrounding AGI will evolve over time. It is essential to establish mechanisms for ongoing review and adaptation of ethical frameworks as technology and societal contexts change.\n",
      "\n",
      "By incorporating these principles into the governance of AGI, society can better navigate the profound challenges and opportunities presented by this transformative technology. that was given on the following question you are an LLM specialist and are working on the developpment of AGI. Your taks is to analyse the process of AGI and tackle on topic of this proces. Please come up with a challenging topic on AGI and put this in a question.Answer only with the question, no explanation.. Make some improvements to the answer.\n",
      "\n",
      "Your job is to evaluate each response on their plusvalue to improve the original answer The development and deployment of Artificial General Intelligence (AGI) pose significant ethical challenges and societal implications. Establishing a robust ethical framework is essential to ensure AGI is aligned with human values and benefits society as a whole. Here are several key ethical frameworks and principles that should be considered:\n",
      "\n",
      "1. **Beneficence**: The primary goal of AGI development should be to promote the well-being of humanity. Organizations should prioritize projects that have a positive social impact and ensure that AGI technologies enhance human capabilities rather than undermine them.\n",
      "\n",
      "2. **Non-maleficence**: Developers of AGI should actively seek to prevent harm. This includes addressing risks such as job displacement, privacy violations, and the potential for misuse. Risk assessments and mitigation strategies should be integrated into the development cycle.\n",
      "\n",
      "3. **Justice and Fairness**: The deployment of AGI must be equitable. This means ensuring that benefits are distributed fairly, avoiding the exacerbation of existing inequalities. Diverse stakeholder engagement is crucial to ensure that different perspectives are considered and that marginalized communities are not left behind.\n",
      "\n",
      "4. **Transparency and Accountability**: AGI systems should be developed and operated transparently. This includes clear documentation of decision-making processes, algorithmic choices, and data sources. Holding developers and organizations accountable for the outcomes of AGI systems is vital to ensuring responsible use.\n",
      "\n",
      "5. **Privacy and Data Protection**: Given the data-driven nature of AGI, strong safeguards must be established to protect individual privacy rights. Users should have control over their data, and there should be mechanisms for opting out and informed consent.\n",
      "\n",
      "6. **Empowerment and Inclusion**: AGI development should empower individuals rather than disempower them. This involves creating systems that enhance human capabilities and supporting education and retraining for those affected by automation.\n",
      "\n",
      "7. **Human Oversight**: Implementing human-in-the-loop systems ensures that critical decisions influenced by AGI are subject to human review. This oversight helps maintain accountability and preserves human agency in decision-making processes.\n",
      "\n",
      "8. **Long-term Sustainability**: Ethical frameworks should consider the long-term implications of AGI on society and the environment. Ensuring sustainability involves thinking critically about the ecological impact and resource utilization associated with AGI technologies.\n",
      "\n",
      "9. **Interdisciplinary Collaboration**: Engaging a diverse range of stakeholders, including ethicists, technologists, policymakers, and affected communities, can provide holistic insights and foster a collaborative approach to AGI governance.\n",
      "\n",
      "10. **Regulatory Frameworks**: Governments and regulatory bodies should establish clear guidelines and policies for AGI development and deployment. These should include standards for safety, ethics, and accountability, as well as international cooperation to prevent a regulatory race to the bottom.\n",
      "\n",
      "11. **Continuous Learning and Adaptation**: The ethical landscape surrounding AGI will evolve over time. It is essential to establish mechanisms for ongoing review and adaptation of ethical frameworks as technology and societal contexts change.\n",
      "\n",
      "By incorporating these principles into the governance of AGI, society can better navigate the profound challenges and opportunities presented by this transformative technology. given, and rank them in order of best to worst.\n",
      "Respond with JSON, and only JSON, with the following format:\n",
      "{\"results\": [\"best competitor number\", \"second best competitor number\", \"third best competitor number\", ...]}\n",
      "\n",
      "Here are the responses from each competitor:\n",
      "\n",
      "# Review from competitor 1\n",
      "\n",
      "How can we ensure that the development of Artificial General Intelligence is guided by a dynamic ethical framework that adapts to evolving technological capabilities and societal needs, particularly in the face of unforeseen consequences and moral dilemmas?\n",
      "\n",
      "# Review from competitor 2\n",
      "\n",
      "## Review of the Answer\n",
      "\n",
      "The answer provides a comprehensive framework for ethical considerations in AGI development, but it fails to address the original request from the prompt, which asked for:\n",
      "\n",
      "1. Analyzing the process of AGI\n",
      "2. Tackling one specific topic related to this process\n",
      "3. Formulating a challenging question about AGI\n",
      "4. Providing only the question without explanation\n",
      "\n",
      "The response instead delivered an extensive ethical framework for AGI without focusing on a specific challenging topic or formulating it as a question as requested.\n",
      "\n",
      "## Improvements Needed\n",
      "\n",
      "1. The answer should be completely restructured to follow the prompt instructions\n",
      "2. It should identify a specific challenging topic in AGI development\n",
      "3. It should formulate this as a single clear question\n",
      "4. It should eliminate all explanatory content\n",
      "\n",
      "The answer should be a single thought-provoking question about AGI rather than an ethical framework.\n",
      "\n",
      "# Review from competitor 3\n",
      "\n",
      "Given the inherent uncertainty and potential for emergent, unpredictable behavior in AGI systems, how can we design and implement robust ethical frameworks that can adapt and respond effectively to unforeseen consequences and novel moral dilemmas arising from AGI's interactions with the world, while also ensuring alignment with evolving human values and societal norms?\n",
      "\n",
      "\n",
      "# Review from competitor 4\n",
      "\n",
      "**Question:**  \n",
      "*\"How can we ensure that the ethical frameworks governing AGI development remain effective and enforceable as the technology rapidly evolves and surpasses human cognitive capabilities?\"*  \n",
      "\n",
      "**Improved Answer:**  \n",
      "\n",
      "The development and deployment of Artificial General Intelligence (AGI) present profound ethical challenges and societal implications. Establishing a robust, adaptive ethical framework is critical to ensuring AGI aligns with human values and serves the collective good. Below are key principles and considerations for responsible AGI governance:  \n",
      "\n",
      "1. **Beneficence & Societal Well-being**: AGI must prioritize human flourishing, with measurable positive impact in healthcare, education, and sustainability. Projects should undergo rigorous ethical audits to assess societal benefits.  \n",
      "\n",
      "2. **Non-maleficence & Risk Mitigation**: Proactive harm prevention is essential, including safeguards against misuse (e.g., autonomous weapons), bias amplification, and systemic disruptions. Red-teaming and adversarial testing should be mandatory.  \n",
      "\n",
      "3. **Equity & Justice**: AGI must not entrench inequality. Fair access to benefits, inclusive design processes, and reparative measures for displaced workers are imperative.  \n",
      "\n",
      "4. **Transparency & Explainability**: AGI systems should be interpretable by design, with open documentation of training data, decision logic, and limitations—especially in high-stakes domains like law or medicine.  \n",
      "\n",
      "5. **Privacy & Agency**: Strong data sovereignty mechanisms (e.g., decentralized ownership, zero-knowledge proofs) must protect individuals, with explicit consent protocols and opt-out rights.  \n",
      "\n",
      "6. **Human-Centric Autonomy**: AGI should augment, not replace, human judgment. \"Human-on-the-loop\" systems (beyond mere oversight) must preserve meaningful control over critical decisions.  \n",
      "\n",
      "7. **Sustainability & Ecological Ethics**: AGI’s energy footprint and resource use must align with planetary boundaries, prioritizing low-impact architectures and circular-economy principles.  \n",
      "\n",
      "8. **Global Governance & Cooperation**: Fragmented regulation risks exploitation. International treaties, akin to nuclear non-proliferation, should enforce safety standards and prevent AGI monopolization.  \n",
      "\n",
      "9. **Adaptive Governance**: Ethical frameworks must evolve alongside AGI capabilities, with real-time monitoring, public deliberation, and sunset clauses for outdated policies.  \n",
      "\n",
      "10. **Interdisciplinary Co-Creation**: Ethicists, engineers, policymakers, and civil society must collaborate iteratively to address emergent risks (e.g., self-improving AGI).  \n",
      "\n",
      "11. **Accountability Enforcement**: Legal liability frameworks should hold developers and deployers responsible for harms, with whistleblower protections and third-party audits.  \n",
      "\n",
      "*Conclusion*: AGI’s transformative potential demands proactive, dynamic ethics—grounded in pluralistic values and enforceable accountability—to navigate its unprecedented challenges.\n",
      "\n",
      "# Review from competitor 5\n",
      "\n",
      "What ethical considerations and regulatory frameworks should be established to ensure that the development and deployment of Artificial General Intelligence (AGI) prioritizes human well-being, transparency, and accountability, while mitigating risks such as job displacement, bias, and misuse, and how can these frameworks be continually adapted to address the evolving societal implications of AGI?\n",
      "\n",
      "# Review from competitor 6\n",
      "\n",
      "How might the integration of human values and emotions into Artificial General Intelligence (AGI) systems impact its capacity for empathy and compassion, potentially influencing social welfare outcomes?\n",
      "\n",
      "\n",
      "\n",
      "Now respond with the JSON with the ranked order of the competitors, nothing else. Do not include markdown formatting or code blocks.\n"
     ]
    }
   ],
   "source": [
    "print(judge)"
   ]
  },
  {
   "cell_type": "code",
   "execution_count": 25,
   "metadata": {},
   "outputs": [],
   "source": [
    "judge_messages = [{\"role\": \"user\", \"content\": judge}]"
   ]
  },
  {
   "cell_type": "code",
   "execution_count": 26,
   "metadata": {},
   "outputs": [
    {
     "name": "stdout",
     "output_type": "stream",
     "text": [
      "{\"results\": [\"3\", \"6\", \"5\", \"1\", \"4\", \"2\"]}\n"
     ]
    }
   ],
   "source": [
    "# Judgement time!\n",
    "\n",
    "openai = OpenAI()\n",
    "response = openai.chat.completions.create(\n",
    "    model=\"o3-mini\",\n",
    "    messages=judge_messages,\n",
    ")\n",
    "results = response.choices[0].message.content\n",
    "print(results)\n"
   ]
  },
  {
   "cell_type": "code",
   "execution_count": 27,
   "metadata": {},
   "outputs": [
    {
     "name": "stdout",
     "output_type": "stream",
     "text": [
      "Rank 1: gemini-2.0-flash\n",
      "Rank 2: llama3.2\n",
      "Rank 3: llama-3.3-70b-versatile\n",
      "Rank 4: gpt-4o-mini\n",
      "Rank 5: deepseek-chat\n",
      "Rank 6: claude-3-7-sonnet-latest\n"
     ]
    }
   ],
   "source": [
    "# OK let's turn this into results!\n",
    "\n",
    "results_dict = json.loads(results)\n",
    "ranks = results_dict[\"results\"]\n",
    "for index, result in enumerate(ranks):\n",
    "    competitor = competitors[int(result)-1]\n",
    "    print(f\"Rank {index+1}: {competitor}\")\n",
    "\n",
    "    "
   ]
  },
  {
   "cell_type": "code",
   "execution_count": 28,
   "metadata": {},
   "outputs": [
    {
     "name": "stdout",
     "output_type": "stream",
     "text": [
      "\n",
      "Improved Answer:\n"
     ]
    },
    {
     "data": {
      "text/markdown": [
       "The development and deployment of Artificial General Intelligence (AGI) pose significant ethical challenges and societal implications, especially given the inherent uncertainty and potential for emergent, unpredictable behavior in these systems. Establishing a robust ethical framework is essential to ensure AGI is aligned with human values and effectively adapts to unforeseen consequences and novel moral dilemmas arising from AGI's interactions with the world. Here are several key ethical frameworks and principles that should be considered:\n",
       "\n",
       "1. **Beneficence**: The primary goal of AGI development should be to promote the well-being of humanity. Organizations should prioritize projects that have a positive social impact while maintaining flexibility to adapt to new challenges. Designing AGI systems with the capacity to learn about human values will enhance their potential to benefit society as a whole.\n",
       "\n",
       "2. **Non-maleficence**: Developers of AGI must actively seek to prevent harm, including addressing risks such as job displacement, privacy violations, and the potential for misuse. This requires integrating risk assessments and mitigation strategies throughout the development cycle and anticipating novel risks that may emerge as AGI systems interact with complex real-world environments.\n",
       "\n",
       "3. **Justice and Fairness**: The deployment of AGI must be equitable, ensuring that benefits are distributed fairly and avoiding the exacerbation of existing inequalities. Engaging diverse stakeholders is crucial in understanding the various perspectives and ensuring that marginalized communities are included, particularly as AGI technologies evolve and impact societal norms.\n",
       "\n",
       "4. **Transparency and Accountability**: AGI systems should be developed and operated transparently, with clear documentation of decision-making processes, algorithmic choices, and data sources. Accountability mechanisms must be in place to address the unpredictable consequences of AGI, ensuring that developers and organizations can respond to emergent ethical dilemmas effectively.\n",
       "\n",
       "5. **Privacy and Data Protection**: Strong safeguards must exist to protect individual privacy rights in the data-driven landscape of AGI. Users should retain control over their data, have the ability to opt out, and provide informed consent, especially as new methods of data usage arise with the evolution of AGI technologies.\n",
       "\n",
       "6. **Empowerment and Inclusion**: AGI development should empower individuals rather than disempower them. This involves creating systems that enhance human capabilities, supporting education and retraining for those affected by automation, and ensuring that AGI technologies respect and reflect evolving societal values.\n",
       "\n",
       "7. **Human Oversight**: Implementing human-in-the-loop systems ensures that critical decisions influenced by AGI are subject to human review. This oversight is necessary to maintain accountability and preserve human agency in decision-making processes, particularly in light of potential unforeseen consequences.\n",
       "\n",
       "8. **Long-term Sustainability**: Ethical frameworks should account for the long-term implications of AGI on society and the environment. It's essential to consider the ecological impact and resource utilization associated with AGI technologies and how these may change as societal expectations evolve.\n",
       "\n",
       "9. **Interdisciplinary Collaboration**: Engaging a diverse range of stakeholders—including ethicists, technologists, policymakers, and affected communities—can provide holistic insights and foster a collaborative approach to AGI governance, enabling the framework to adapt to new challenges and opportunities.\n",
       "\n",
       "10. **Regulatory Frameworks**: Governments and regulatory bodies should establish clear guidelines and policies for AGI development and deployment. These should include evolving standards for safety, ethics, and accountability, as well as international cooperation to ensure consistency and fairness in regulations.\n",
       "\n",
       "11. **Continuous Learning and Adaptation**: Given the unpredictable nature of AGI, it’s crucial to establish mechanisms for ongoing review and adaptation of ethical frameworks. This involves learning from experiences and integrating insights from unexpected outcomes, ensuring that ethical considerations evolve alongside technological advancements and changing societal values.\n",
       "\n",
       "By incorporating these principles into the governance of AGI, society can better navigate the profound challenges and opportunities presented by this transformative technology, while also ensuring that ethical frameworks remain aligned with the evolving moral landscape and diverse human values."
      ],
      "text/plain": [
       "<IPython.core.display.Markdown object>"
      ]
     },
     "metadata": {},
     "output_type": "display_data"
    }
   ],
   "source": [
    "# Get the top improvement\n",
    "top_improvement = reviews[int(ranks[0])-1]\n",
    "\n",
    "# Ask the original model to improve its answer\n",
    "improvement_request = f\"\"\"Based on this suggested improvement:\n",
    "{top_improvement}\n",
    "\n",
    "Please revise your original answer to incorporate this improvement. Keep the same structure but enhance it with these insights.\n",
    "\n",
    "Original answer:\n",
    "{answer}\"\"\"\n",
    "\n",
    "messages_update = [{\"role\": \"user\", \"content\": improvement_request}]\n",
    "\n",
    "# Get the improved answer from the original model\n",
    "response = openai.chat.completions.create(\n",
    "    model=model_answer,\n",
    "    messages=messages_update\n",
    ")\n",
    "improved_answer = response.choices[0].message.content\n",
    "\n",
    "print(\"\\nImproved Answer:\")\n",
    "display(Markdown(improved_answer))"
   ]
  },
  {
   "cell_type": "code",
   "execution_count": 29,
   "metadata": {},
   "outputs": [],
   "source": [
    "# Empty the lists after use\n",
    "competitors = []\n",
    "answers = []\n",
    "reviews = []"
   ]
  },
  {
   "cell_type": "code",
   "execution_count": 30,
   "metadata": {},
   "outputs": [
    {
     "name": "stdout",
     "output_type": "stream",
     "text": [
      "[]\n",
      "[]\n",
      "[]\n"
     ]
    }
   ],
   "source": [
    "print(competitors)  # Should print: []\n",
    "print(answers)      # Should print: []\n",
    "print(reviews)      # Should print: []"
   ]
  },
  {
   "cell_type": "markdown",
   "metadata": {},
   "source": [
    "<table style=\"margin: 0; text-align: left; width:100%\">\n",
    "    <tr>\n",
    "        <td style=\"width: 150px; height: 150px; vertical-align: middle;\">\n",
    "            <img src=\"../assets/exercise.png\" width=\"150\" height=\"150\" style=\"display: block;\" />\n",
    "        </td>\n",
    "        <td>\n",
    "            <h2 style=\"color:#ff7800;\">Exercise</h2>\n",
    "            <span style=\"color:#ff7800;\">Which pattern(s) did this use? Try updating this to add another Agentic design pattern.\n",
    "            </span>\n",
    "        </td>\n",
    "    </tr>\n",
    "</table>"
   ]
  },
  {
   "cell_type": "markdown",
   "metadata": {},
   "source": [
    "<table style=\"margin: 0; text-align: left; width:100%\">\n",
    "    <tr>\n",
    "        <td style=\"width: 150px; height: 150px; vertical-align: middle;\">\n",
    "            <img src=\"../assets/business.png\" width=\"150\" height=\"150\" style=\"display: block;\" />\n",
    "        </td>\n",
    "        <td>\n",
    "            <h2 style=\"color:#00bfff;\">Commercial implications</h2>\n",
    "            <span style=\"color:#00bfff;\">These kinds of patterns - to send a task to multiple models, and evaluate results,\n",
    "            and common where you need to improve the quality of your LLM response. This approach can be universally applied\n",
    "            to business projects where accuracy is critical.\n",
    "            </span>\n",
    "        </td>\n",
    "    </tr>\n",
    "</table>"
   ]
  }
 ],
 "metadata": {
  "kernelspec": {
   "display_name": ".venv",
   "language": "python",
   "name": "python3"
  },
  "language_info": {
   "codemirror_mode": {
    "name": "ipython",
    "version": 3
   },
   "file_extension": ".py",
   "mimetype": "text/x-python",
   "name": "python",
   "nbconvert_exporter": "python",
   "pygments_lexer": "ipython3",
   "version": "3.12.10"
  }
 },
 "nbformat": 4,
 "nbformat_minor": 2
}
