{
 "cells": [
  {
   "cell_type": "markdown",
   "metadata": {},
   "source": [
    "## Before we start - some setup:\n",
    "\n",
    "\n",
    "Please visit Sendgrid at: https://sendgrid.com/\n",
    "\n",
    "(Sendgrid is a Twilio company for sending emails.)\n",
    "\n",
    "Please set up an account - it's free! (at least, for me, right now).\n",
    "\n",
    "Once you've created an account, click on:\n",
    "\n",
    "Settings (left sidebar) >> API Keys >> Create API Key (button on top right)\n",
    "\n",
    "Copy the key to the clipboard, then add a new line to your .env file:\n",
    "\n",
    "`SENDGRID_API_KEY=xxxx`\n",
    "\n",
    "And also, within SendGrid, go to:\n",
    "\n",
    "Settings (left sidebar) >> Sender Authentication >> \"Verify a Single Sender\"  \n",
    "and verify that your own email address is a real email address, so that SendGrid can send emails for you.\n"
   ]
  },
  {
   "cell_type": "markdown",
   "metadata": {},
   "source": [
    "## Week 2 Day 2\n",
    "\n",
    "Our first Agentic Framework project!!\n",
    "\n",
    "Prepare yourself for something ridiculously easy.\n",
    "\n",
    "We're going to build a simple Agent system for generating cold sales outreach emails:\n",
    "1. Agent workflow\n",
    "2. Use of tools to call functions\n",
    "3. Agent collaboration via Tools and Handoffs"
   ]
  },
  {
   "cell_type": "code",
   "execution_count": 1,
   "metadata": {},
   "outputs": [],
   "source": [
    "from dotenv import load_dotenv\n",
    "from agents import Agent, Runner, trace, function_tool\n",
    "from openai.types.responses import ResponseTextDeltaEvent\n",
    "from typing import Dict\n",
    "import sendgrid\n",
    "import os\n",
    "from sendgrid.helpers.mail import Mail, Email, To, Content, Personalization\n",
    "import asyncio\n",
    "import openai\n",
    "import pandas as pd\n"
   ]
  },
  {
   "cell_type": "code",
   "execution_count": 2,
   "metadata": {},
   "outputs": [],
   "source": [
    "import nest_asyncio\n",
    "nest_asyncio.apply()"
   ]
  },
  {
   "cell_type": "code",
   "execution_count": 3,
   "metadata": {},
   "outputs": [
    {
     "data": {
      "text/plain": [
       "True"
      ]
     },
     "execution_count": 3,
     "metadata": {},
     "output_type": "execute_result"
    }
   ],
   "source": [
    "load_dotenv(override=True)"
   ]
  },
  {
   "cell_type": "markdown",
   "metadata": {},
   "source": [
    "## Step 1: Agent workflow"
   ]
  },
  {
   "cell_type": "code",
   "execution_count": 4,
   "metadata": {},
   "outputs": [
    {
     "name": "stdout",
     "output_type": "stream",
     "text": [
      "                      EMAIL FIRST_NAME  LAST_NAME  GENDER ADDRESS_LINE_2\n",
      "0          drey@proximus.be  Dominique  Reyntjens  female        Belgium\n",
      "1  vladimirmylle@hotmail.be   Vladimir      Mylle    male        Belgium\n",
      "2   laura.mylle@hotmail.com      Laura   Myllette  female        Belgium\n",
      "3        ninicoe0@gmail.com       Nini     Coenen  female        Belgium\n"
     ]
    }
   ],
   "source": [
    "file_path = r\"c:\\Users\\ninic\\projects\\agents\\2_openai\\community_contributions\\friends_data.csv\"\n",
    "df = pd.read_csv(file_path)\n",
    "\n",
    "print(df.head())  # Optional: Display first few rows to confirm successful reading\n",
    "\n",
    "\n",
    "tokens = 600\n"
   ]
  },
  {
   "cell_type": "code",
   "execution_count": 5,
   "metadata": {},
   "outputs": [],
   "source": [
    "\n",
    "# Load recipients' emails from CSV file\n",
    "\n",
    "recipients = df.to_dict(orient=\"records\")  # Convert to list of dictionaries\n",
    "email_sender = \"ninicoe0@gmail.com\""
   ]
  },
  {
   "cell_type": "code",
   "execution_count": 6,
   "metadata": {},
   "outputs": [],
   "source": [
    "instruction_orchestrator =\"you are the orchestrator of a story of 4 friends of which one has the idea to organise a trip and send out an email to the three other friends. You will orchestrate the flow of agents: one will generate the story of the 4 friends, another agent will generate on the gender and personality of the friends the subject and body text of the emails. After the last phase ( assessment of the email) of the flow, you will handover the subject and the email body to the email_sender agent who will send out the emails.\"\n",
    "instructions_storyteller = f\"Generate a compelling short story (max {tokens} tokens) about four friends, information on name and gender to be found in {df}, ensuring the story naturally leads to one of them organizing a holiday trip. The story should reflect the personalities, interests, and relationships of the friends to provide useful context for an email-generating agent. The tone should be engaging, slightly conversational, and realistic, balancing storytelling with practical details to support email personalization. The story should conclude with a natural setup for an email being written.\" \n",
    "instructions_male_emailagent =f\"Write a direct and energetic email tailored to male friends based on the story context. See that you reflect the personality of the recipient in the tone of the email. Information on the gender of the friends can be foud in {df}\"\n",
    "instructions_female_emailagent = f\"Write a warm and engaging email tailored to female friends based on the story context.See that you reflect the personality of the recipient in the tone of the email. Information on the gender of the friends can be foud in {df}\"\n",
    "instructions_evaluator = \"Assess all the emails for clarity and relevance. Give an assessment per email that has been created\""
   ]
  },
  {
   "cell_type": "code",
   "execution_count": 7,
   "metadata": {},
   "outputs": [],
   "source": [
    "storyteller_userprompt = \"write a short story\""
   ]
  },
  {
   "cell_type": "code",
   "execution_count": 8,
   "metadata": {},
   "outputs": [],
   "source": [
    "instructions_html_converter = \"\"\"You can convert a text email body to an HTML email body. \\\n",
    "You are given a text email body which might have some markdown \\\n",
    "and you need to convert it to an HTML email body with simple, clear, compelling layout and design.\n",
    "Convert the emails to HTML as follows: male_email to HTML_email_male and female_email to HTML_email_female.\n",
    "\"\"\"\n",
    "\n",
    "instructions_email_sender = \"You are an email formatter and sender. You receive the subject and body of an email to be sent. \\\n",
    "You first use the the html_converter tool to convert the body to HTML. \\\n",
    "Finally, you use the send_html_email tool to send the email with the subject and HTML body.\""
   ]
  },
  {
   "cell_type": "code",
   "execution_count": 9,
   "metadata": {},
   "outputs": [],
   "source": [
    "html_converter = Agent(name=\"HTML email body converter\", instructions=instructions_html_converter, model=\"gpt-4o\")\n",
    "html_tool = html_converter.as_tool(tool_name=\"html_converter\",tool_description=\"Convert a text email body to an HTML email body, male_email to HTML_email_male and female_email to HTML_email_female\")"
   ]
  },
  {
   "cell_type": "code",
   "execution_count": 10,
   "metadata": {},
   "outputs": [
    {
     "name": "stdout",
     "output_type": "stream",
     "text": [
      "5\n",
      "\n",
      "Generated Story:\n",
      " In the heart of Belgium, four friends sat around a cozy café table, surrounded by the aroma of fresh pastries and the rhythmic hum of early morning chatter. Dominique Reyntjens, an adventurous spirit with an eye for detail, leafed through a travel magazine, absentmindedly sipping her espresso. Beside her, Vladimir Mylle, a history enthusiast with a penchant for old films, recounted a story that had them all chuckling.\n",
      "\n",
      "Vladimir’s sister, Laura Myllette, artistic and thoughtful, had brought along her sketchbook. She was capturing the café's essence with quick, confident strokes. Across the table, Nini Coenen, an energetic and practical problem-solver, was already on her phone, researching travel spots that Dominique had been considering.\n",
      "\n",
      "“Dom, this place in Greece looks perfect for your hiking obsession,” Nini chimed in, pushing her phone toward Dominique.\n",
      "\n",
      "Dominique’s eyes lit up as she scanned the screen. “It does look amazing. A mix of trails and beaches,” she mused, imagining sunlit paths and turquoise waters.\n",
      "\n",
      "“That way,” Vladimir suggested, gesturing theatrically, “I can explore ancient ruins while you all hike your hearts out. Seems like the perfect blend of relaxation and exploration.”\n",
      "\n",
      "Laura nodded, adding, “Imagine the sketches I could do there. The views are breathtaking.”\n",
      "\n",
      "Inspired by the synergy of their interests, Dominique leaned into Nini’s shoulder playfully. “Looks like you’re officially the planner. You’re always so organized.”\n",
      "\n",
      "Grinning, Nini agreed, “Alright, I’ll put together some options. Maybe we can travel during spring?”\n",
      "\n",
      "With the conversation naturally steering toward planning, Nini clapped her hands together. “Okay, I’ll set up an itinerary draft. We can split tasks: Dominique, find us some hiking trails; Vladimir, look up must-see historical sites; Laura, maybe you can research the local art scene.”\n",
      "\n",
      "“Team effort,” Laura said, smiling, adding a final flourish to her sketch. “This is going to be amazing.”\n",
      "\n",
      "The café buzz faded into a warm hubbub as their plans solidified. Each of them, charged with tasks they enjoyed, felt the thrill of the upcoming adventure.\n",
      "\n",
      "Later that evening, as the sun painted the Belgian sky in hues of orange and pink, Nini settled at her desk. She felt the familiar rhythm of excitement as she drafted an email to the group, brimming with ideas for their next getaway. Within the subject line, she titled it simply: “Our Next Great Adventure.”\n",
      "\n",
      "Nini’s fingers danced across the keyboard, crafting an email that captured their day’s energy and promised future excitement. Just the start of a journey they were bound to cherish.\n",
      "\n",
      "Email for Male Friends:\n",
      " Subject: Our Next Great Adventure Awaits!\n",
      "\n",
      "Hey Team Adventure,\n",
      "\n",
      "Hope you're all as pumped as I am after our epic café hangout this morning! It feels like ages since we started planning something this exciting, and I can't wait to dive in.\n",
      "\n",
      "Dom, I’ve been checking out that spot in Greece you got all starry-eyed over. Imagine us tackling those trails and hitting those beaches—sun, fun, and maybe a little too much sunblock! It’s going to be the perfect mix.\n",
      "\n",
      "Vlad, I’m counting on you to discover those ancient ruins you’re always raving about. You know, the ones with stories begging to be retold? And Laura, can you just picture the masterpieces you’ll create with that incredible scenery as your muse?\n",
      "\n",
      "I’m throwing together a draft itinerary and will shoot it your way soon. Let’s aim for a spring escape—perfect weather and far enough to get everything just right.\n",
      "\n",
      "Here’s the game plan:\n",
      "- **Dom**: Trail master—find us those epic hiking routes.\n",
      "- **Vlad**: History guru—dig up those must-visit historical spots.\n",
      "- **Laura**: Art explorer—scope out the local art scene for us.\n",
      "\n",
      "Let’s bring our A-game and make this trip unforgettable. Can’t wait to see what each of you finds! Hit me back with any thoughts or must-dos.\n",
      "\n",
      "Adventure awaits,\n",
      "Nini\n",
      "\n",
      "Buckle up, boys! 🏞️🌊🎨\n",
      "\n",
      "Evaluation for Male Email:\n",
      " ### Assessment:\n",
      "\n",
      "**Clarity**: The email is clear and enthusiastic, setting a positive tone for the team. The roles are well-defined, making sure each member knows their tasks. The casual and friendly language is appropriate for the audience.\n",
      "\n",
      "**Relevance**: The details are relevant to the trip planning. It focuses on the destination, individual responsibilities, and the excitement of the upcoming adventure. The mention of a draft itinerary and request for feedback ensures team involvement.\n",
      "\n",
      "Overall, the email effectively communicates the purpose and engages the team in the planning process.\n",
      "\n",
      "Email for Female Friends:\n",
      " Subject: Our Next Great Adventure Awaits!\n",
      "\n",
      "Hey Dominique, Laura, and Dom!\n",
      "\n",
      "I hope this email finds you well and still buzzing from our delightful café meetup! I couldn't help but feel the excitement lingering in the air as we chatted about our potential adventure. So here I am, post-coffee, full of ideas and ready to get this show on the road!\n",
      "\n",
      "Dominique, you’re truly our adventurous trailblazer! I’ve found some incredible hiking routes in Greece that promise both challenge and beauty. I can already see you leading the way, espresso in hand!\n",
      "\n",
      "Laura, the art scene there is vibrant and rich in history. I can only imagine the stunning sketches you'll create, capturing the heart and soul of our journey. I’ll send some links your way to get you started on a little virtual exploration.\n",
      "\n",
      "And, Dominique, you must be excited about exploring the ruins Vladimir suggested! Between your love of travel and detail, and his knack for storytelling, I’m sure we’ll find some incredible places that merge culture with adventure.\n",
      "\n",
      "I've started drafting an itinerary and will send a sneak peek soon. We'll all pitch in, and I have no doubt it’ll be an unforgettable trip. \n",
      "\n",
      "Let’s aim for spring — the perfect time to embrace new beginnings and enjoy that glorious Greek sunshine!\n",
      "\n",
      "Here’s to our next great adventure! 🏞️🎨🍵\n",
      "\n",
      "Warm hugs,\n",
      "\n",
      "Nini\n",
      "\n",
      "P.S. Check your inboxes for a poll soon to pick the best travel dates. Can’t wait to explore together!\n",
      "\n",
      "Evaluation for Female Email:\n",
      " Assessment for Clarity and Relevance:\n",
      "\n",
      "Clarity: This email is clear and well-structured. It effectively communicates the purpose and excitement of planning an adventure trip to Greece. Each recipient is addressed personally, which adds a personalized touch and makes the message easy to follow.\n",
      "\n",
      "Relevance: The content is highly relevant to the recipients as it directly pertains to their interests and possible travel plans. Mentioning specific activities like hiking routes, the art scene, and exploring ruins aligns well with each person's interests, making the email engaging and motivating.\n",
      "\n",
      "Overall: The email successfully conveys enthusiasm and provides relevant information to the intended recipients.\n"
     ]
    }
   ],
   "source": [
    "\n",
    "async def orchestrate_workflow():\n",
    "    message = \"you will use this tool to start the workflow and create a vivid subject and body/text for the email\"\n",
    "    # Step 1: Generate Story\n",
    "    storyteller_agent = Agent(\n",
    "        name=\"StoryTeller\",\n",
    "        instructions=instructions_storyteller\n",
    "    )\n",
    "    story_result = await Runner.run(storyteller_agent, storyteller_userprompt)\n",
    "  \n",
    "    # Step 2: Generate email_prompt\n",
    "    email_prompt = f\"Based on this story: {story_result.final_output}, generate an email inviting the friends to the trip.\"\n",
    "\n",
    "    # Step 3: Run Male & Female Email Agents in Parallel\n",
    "    male_email_agent = Agent(\n",
    "        name=\"MaleEmailAgent\",\n",
    "        instructions= instructions_male_emailagent\n",
    "    )\n",
    "    female_email_agent = Agent(\n",
    "        name=\"FemaleEmailAgent\",\n",
    "        instructions=instructions_female_emailagent\n",
    "    )\n",
    "\n",
    "    male_email_task = Runner.run(male_email_agent, email_prompt)\n",
    "    female_email_task = Runner.run(female_email_agent, email_prompt)\n",
    "\n",
    "    male_email_result, female_email_result = await asyncio.gather(male_email_task, female_email_task)\n",
    "\n",
    "    # Step 4: Evaluator Reviews Both Emails\n",
    "    evaluator_agent = Agent(\n",
    "        name=\"Evaluator\",\n",
    "        instructions= instructions_evaluator\n",
    "    )\n",
    "\n",
    "    eval_male_task = Runner.run(evaluator_agent, male_email_result.final_output)\n",
    "    eval_female_task = Runner.run(evaluator_agent, female_email_result.final_output)\n",
    "\n",
    "    eval_male_result, eval_female_result = await asyncio.gather(eval_male_task, eval_female_task)\n",
    "# return in dictionnary as the output of the workflow was to hugh\n",
    "    return {\n",
    "    \"story\": story_result.final_output,\n",
    "    \"male_email\": male_email_result.final_output,\n",
    "    \"female_email\": female_email_result.final_output,\n",
    "    \"eval_male\": eval_male_result.final_output,\n",
    "    \"eval_female\": eval_female_result.final_output\n",
    "} \n",
    "\n",
    "\n",
    "\n",
    " # Check how many values are returned # Checprint(len(result)) k how many values are returned\n",
    "\n",
    "# Run the orchestrated workflow\n",
    "result = await orchestrate_workflow()\n",
    "print(len(result)) # Check how many values are returned # Checprint(len(result)) k how many values are returned\n",
    "# Access values from the dictionary\n",
    "print(\"\\nGenerated Story:\\n\", result[\"story\"])\n",
    "print(\"\\nEmail for Male Friends:\\n\", result[\"male_email\"])\n",
    "print(\"\\nEvaluation for Male Email:\\n\", result[\"eval_male\"])\n",
    "print(\"\\nEmail for Female Friends:\\n\", result[\"female_email\"])\n",
    "print(\"\\nEvaluation for Female Email:\\n\", result[\"eval_female\"])"
   ]
  },
  {
   "cell_type": "code",
   "execution_count": 11,
   "metadata": {},
   "outputs": [],
   "source": [
    "html_converter_agent = Agent(\n",
    "    name=\"HTMLConverter\",\n",
    "    instructions=instructions_html_converter,\n",
    "    \n",
    ")\n",
    "message_male_email = f\"convert this email to HTML: {result['male_email']}\"\n",
    "message_female_email = f\"convert this email to HTML: {result['female_email']}\"\n",
    "\n",
    "with trace(\"Automated emailconverter\"):\n",
    "# Convert emails into HTML format\n",
    "    html_email_task_male = Runner.run(html_converter_agent, message_male_email)\n",
    "    html_email_task_female = Runner.run(html_converter_agent, message_female_email)\n",
    "\n",
    "html_email_male, html_email_female = await asyncio.gather(html_email_task_male, html_email_task_female)\n",
    "\n",
    "\n",
    " "
   ]
  },
  {
   "cell_type": "code",
   "execution_count": 12,
   "metadata": {},
   "outputs": [],
   "source": [
    "\n",
    "sg = sendgrid.SendGridAPIClient(api_key=os.environ.get('SENDGRID_API_KEY'))\n"
   ]
  },
  {
   "cell_type": "code",
   "execution_count": 13,
   "metadata": {},
   "outputs": [],
   "source": [
    "\n",
    "@function_tool\n",
    "def send_email(subject: str, html_content: str, recipient_email: str) -> int:\n",
    "    \"\"\"\n",
    "    Send emails to all friends using SendGrid.\n",
    "    \n",
    "    Args:\n",
    "        subject (str): The subject of the email\n",
    "        html_content (str): The HTML content of the email\n",
    "        recipient_email (str): The email addresses of the recipients\n",
    "        \n",
    "    Returns:\n",
    "        int: The status code of the email send operation\n",
    "    \"\"\"\n",
    "    message = Mail(\n",
    "        from_email=email_sender,\n",
    "        to_emails=recipient_email,\n",
    "        subject=subject,\n",
    "        html_content=html_content\n",
    "    )\n",
    "    response = sg.send(message)\n",
    "    return response.status_code\n",
    "\n",
    "# Send emails based on gender\n"
   ]
  },
  {
   "cell_type": "code",
   "execution_count": 14,
   "metadata": {},
   "outputs": [],
   "source": [
    "emailer_agent = Agent(\n",
    "    name=\"Email Manager\",\n",
    "    instructions=instructions_email_sender,\n",
    "    tools = [send_email],\n",
    "    model=\"gpt-4o-mini\")\n",
    "    \n",
    "message = f\"\"\"\n",
    "Send out the emails to all friends using the following information:\n",
    "\n",
    "Male Email HTML Content:\n",
    "{html_email_male.final_output}\n",
    "\n",
    "Female Email HTML Content:\n",
    "{html_email_female.final_output}\n",
    "\n",
    "Recipients:\n",
    "{recipients}\n",
    "\n",
    "Please send the appropriate HTML email based on each recipient's gender.\"\"\"\n",
    "\n",
    "    # Get the appropriate email body based on gender\n",
    "   \n",
    "with trace ( \"automate holidayplanner friends\"):\n",
    "    result= await Runner.run(emailer_agent, message)\n",
    "\n"
   ]
  }
 ],
 "metadata": {
  "kernelspec": {
   "display_name": ".venv",
   "language": "python",
   "name": "python3"
  },
  "language_info": {
   "codemirror_mode": {
    "name": "ipython",
    "version": 3
   },
   "file_extension": ".py",
   "mimetype": "text/x-python",
   "name": "python",
   "nbconvert_exporter": "python",
   "pygments_lexer": "ipython3",
   "version": "3.12.10"
  }
 },
 "nbformat": 4,
 "nbformat_minor": 2
}
